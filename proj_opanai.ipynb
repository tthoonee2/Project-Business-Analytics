{
 "cells": [
  {
   "cell_type": "code",
   "execution_count": 17,
   "metadata": {},
   "outputs": [
    {
     "name": "stdout",
     "output_type": "stream",
     "text": [
      "Defaulting to user installation because normal site-packages is not writeable\n",
      "Requirement already satisfied: gensim in c:\\users\\apuza\\appdata\\roaming\\python\\python310\\site-packages (from -r requirements.txt (line 1)) (4.3.3)\n",
      "Requirement already satisfied: pandas in c:\\users\\apuza\\appdata\\roaming\\python\\python310\\site-packages (from -r requirements.txt (line 2)) (2.2.1)\n",
      "Requirement already satisfied: openai in c:\\users\\apuza\\appdata\\roaming\\python\\python310\\site-packages (from -r requirements.txt (line 3)) (1.13.3)\n",
      "Requirement already satisfied: nltk in c:\\users\\apuza\\appdata\\roaming\\python\\python310\\site-packages (from -r requirements.txt (line 4)) (3.8.1)\n",
      "Requirement already satisfied: numpy<2.0,>=1.18.5 in c:\\users\\apuza\\appdata\\roaming\\python\\python310\\site-packages (from gensim->-r requirements.txt (line 1)) (1.26.4)\n",
      "Requirement already satisfied: scipy<1.14.0,>=1.7.0 in c:\\users\\apuza\\appdata\\roaming\\python\\python310\\site-packages (from gensim->-r requirements.txt (line 1)) (1.10.0)\n",
      "Requirement already satisfied: smart-open>=1.8.1 in c:\\users\\apuza\\appdata\\roaming\\python\\python310\\site-packages (from gensim->-r requirements.txt (line 1)) (7.1.0)\n",
      "Requirement already satisfied: python-dateutil>=2.8.2 in c:\\users\\apuza\\appdata\\roaming\\python\\python310\\site-packages (from pandas->-r requirements.txt (line 2)) (2.8.2)\n",
      "Requirement already satisfied: pytz>=2020.1 in c:\\users\\apuza\\appdata\\roaming\\python\\python310\\site-packages (from pandas->-r requirements.txt (line 2)) (2022.5)\n",
      "Requirement already satisfied: tzdata>=2022.7 in c:\\users\\apuza\\appdata\\roaming\\python\\python310\\site-packages (from pandas->-r requirements.txt (line 2)) (2024.1)\n",
      "Requirement already satisfied: anyio<5,>=3.5.0 in c:\\users\\apuza\\appdata\\roaming\\python\\python310\\site-packages (from openai->-r requirements.txt (line 3)) (4.0.0)\n",
      "Requirement already satisfied: distro<2,>=1.7.0 in c:\\users\\apuza\\appdata\\roaming\\python\\python310\\site-packages (from openai->-r requirements.txt (line 3)) (1.9.0)\n",
      "Requirement already satisfied: httpx<1,>=0.23.0 in c:\\users\\apuza\\appdata\\roaming\\python\\python310\\site-packages (from openai->-r requirements.txt (line 3)) (0.23.3)\n",
      "Requirement already satisfied: pydantic<3,>=1.9.0 in c:\\users\\apuza\\appdata\\roaming\\python\\python310\\site-packages (from openai->-r requirements.txt (line 3)) (1.10.17)\n",
      "Requirement already satisfied: sniffio in c:\\users\\apuza\\appdata\\roaming\\python\\python310\\site-packages (from openai->-r requirements.txt (line 3)) (1.3.0)\n",
      "Requirement already satisfied: tqdm>4 in c:\\users\\apuza\\appdata\\roaming\\python\\python310\\site-packages (from openai->-r requirements.txt (line 3)) (4.64.0)\n",
      "Requirement already satisfied: typing-extensions<5,>=4.7 in c:\\users\\apuza\\appdata\\roaming\\python\\python310\\site-packages (from openai->-r requirements.txt (line 3)) (4.8.0)\n",
      "Requirement already satisfied: click in c:\\users\\apuza\\appdata\\roaming\\python\\python310\\site-packages (from nltk->-r requirements.txt (line 4)) (8.1.7)\n",
      "Requirement already satisfied: joblib in c:\\users\\apuza\\appdata\\roaming\\python\\python310\\site-packages (from nltk->-r requirements.txt (line 4)) (1.3.2)\n",
      "Requirement already satisfied: regex>=2021.8.3 in c:\\users\\apuza\\appdata\\roaming\\python\\python310\\site-packages (from nltk->-r requirements.txt (line 4)) (2023.10.3)\n",
      "Requirement already satisfied: idna>=2.8 in c:\\users\\apuza\\appdata\\roaming\\python\\python310\\site-packages (from anyio<5,>=3.5.0->openai->-r requirements.txt (line 3)) (3.3)\n",
      "Requirement already satisfied: exceptiongroup>=1.0.2 in c:\\users\\apuza\\appdata\\roaming\\python\\python310\\site-packages (from anyio<5,>=3.5.0->openai->-r requirements.txt (line 3)) (1.1.3)\n",
      "Requirement already satisfied: certifi in c:\\users\\apuza\\appdata\\roaming\\python\\python310\\site-packages (from httpx<1,>=0.23.0->openai->-r requirements.txt (line 3)) (2022.6.15)\n",
      "Requirement already satisfied: httpcore<0.17.0,>=0.15.0 in c:\\users\\apuza\\appdata\\roaming\\python\\python310\\site-packages (from httpx<1,>=0.23.0->openai->-r requirements.txt (line 3)) (0.16.3)\n",
      "Requirement already satisfied: rfc3986<2,>=1.3 in c:\\users\\apuza\\appdata\\roaming\\python\\python310\\site-packages (from rfc3986[idna2008]<2,>=1.3->httpx<1,>=0.23.0->openai->-r requirements.txt (line 3)) (1.5.0)\n",
      "Requirement already satisfied: six>=1.5 in c:\\users\\apuza\\appdata\\roaming\\python\\python310\\site-packages (from python-dateutil>=2.8.2->pandas->-r requirements.txt (line 2)) (1.16.0)\n",
      "Requirement already satisfied: wrapt in c:\\users\\apuza\\appdata\\roaming\\python\\python310\\site-packages (from smart-open>=1.8.1->gensim->-r requirements.txt (line 1)) (1.14.1)\n",
      "Requirement already satisfied: colorama in c:\\users\\apuza\\appdata\\roaming\\python\\python310\\site-packages (from tqdm>4->openai->-r requirements.txt (line 3)) (0.4.5)\n",
      "Requirement already satisfied: h11<0.15,>=0.13 in c:\\users\\apuza\\appdata\\roaming\\python\\python310\\site-packages (from httpcore<0.17.0,>=0.15.0->httpx<1,>=0.23.0->openai->-r requirements.txt (line 3)) (0.14.0)\n"
     ]
    },
    {
     "name": "stderr",
     "output_type": "stream",
     "text": [
      "\n",
      "[notice] A new release of pip is available: 24.0 -> 25.0\n",
      "[notice] To update, run: python.exe -m pip install --upgrade pip\n"
     ]
    }
   ],
   "source": [
    "!pip install -r requirements.txt"
   ]
  },
  {
   "cell_type": "code",
   "execution_count": null,
   "metadata": {},
   "outputs": [
    {
     "name": "stdout",
     "output_type": "stream",
     "text": [
      "Found existing installation: gensim 4.3.3\n",
      "Uninstalling gensim-4.3.3:\n",
      "  Successfully uninstalled gensim-4.3.3\n"
     ]
    },
    {
     "name": "stderr",
     "output_type": "stream",
     "text": [
      "WARNING: Failed to remove contents in a temporary directory 'C:\\Users\\apuza\\AppData\\Roaming\\Python\\Python310\\site-packages\\~ensim'.\n",
      "You can safely remove it manually.\n"
     ]
    }
   ],
   "source": [
    "!pip uninstall gensim -y\n",
    "!pip install --no-cache-dir --force-reinstall gensim\n"
   ]
  },
  {
   "cell_type": "code",
   "execution_count": 19,
   "metadata": {},
   "outputs": [
    {
     "ename": "RuntimeError",
     "evalue": "Compiled extensions are unavailable. If you've installed from a package, ask the package maintainer to include compiled extensions. If you're building Gensim from source yourself, install Cython and a C compiler, and then run `python setup.py build_ext --inplace` to retry. ",
     "output_type": "error",
     "traceback": [
      "\u001b[1;31m---------------------------------------------------------------------------\u001b[0m",
      "\u001b[1;31mImportError\u001b[0m                               Traceback (most recent call last)",
      "File \u001b[1;32m~\\AppData\\Roaming\\Python\\Python310\\site-packages\\gensim\\matutils.py:1356\u001b[0m\n\u001b[0;32m   1355\u001b[0m \u001b[38;5;28;01mtry\u001b[39;00m:\n\u001b[1;32m-> 1356\u001b[0m     \u001b[38;5;28;01mfrom\u001b[39;00m \u001b[38;5;21;01mgensim\u001b[39;00m\u001b[38;5;21;01m.\u001b[39;00m\u001b[38;5;21;01mcorpora\u001b[39;00m\u001b[38;5;21;01m.\u001b[39;00m\u001b[38;5;21;01m_mmreader\u001b[39;00m \u001b[38;5;28;01mimport\u001b[39;00m MmReader  \u001b[38;5;66;03m# noqa: F401\u001b[39;00m\n\u001b[0;32m   1357\u001b[0m \u001b[38;5;28;01mexcept\u001b[39;00m \u001b[38;5;167;01mImportError\u001b[39;00m:\n",
      "File \u001b[1;32m~\\AppData\\Roaming\\Python\\Python310\\site-packages\\gensim\\corpora\\_mmreader.pyx:11\u001b[0m, in \u001b[0;36minit gensim.corpora._mmreader\u001b[1;34m()\u001b[0m\n",
      "\u001b[1;31mImportError\u001b[0m: cannot import name utils",
      "\nDuring handling of the above exception, another exception occurred:\n",
      "\u001b[1;31mRuntimeError\u001b[0m                              Traceback (most recent call last)",
      "Cell \u001b[1;32mIn[19], line 8\u001b[0m\n\u001b[0;32m      6\u001b[0m \u001b[38;5;28;01mimport\u001b[39;00m \u001b[38;5;21;01mnltk\u001b[39;00m\n\u001b[0;32m      7\u001b[0m \u001b[38;5;28;01mfrom\u001b[39;00m \u001b[38;5;21;01mnltk\u001b[39;00m\u001b[38;5;21;01m.\u001b[39;00m\u001b[38;5;21;01mcorpus\u001b[39;00m \u001b[38;5;28;01mimport\u001b[39;00m stopwords\n\u001b[1;32m----> 8\u001b[0m \u001b[38;5;28;01mfrom\u001b[39;00m \u001b[38;5;21;01mgensim\u001b[39;00m \u001b[38;5;28;01mimport\u001b[39;00m corpora\n\u001b[0;32m      9\u001b[0m \u001b[38;5;28;01mfrom\u001b[39;00m \u001b[38;5;21;01mgensim\u001b[39;00m\u001b[38;5;21;01m.\u001b[39;00m\u001b[38;5;21;01mmodels\u001b[39;00m \u001b[38;5;28;01mimport\u001b[39;00m LdaModel\n\u001b[0;32m     10\u001b[0m \u001b[38;5;28;01mfrom\u001b[39;00m \u001b[38;5;21;01mgensim\u001b[39;00m\u001b[38;5;21;01m.\u001b[39;00m\u001b[38;5;21;01mparsing\u001b[39;00m\u001b[38;5;21;01m.\u001b[39;00m\u001b[38;5;21;01mpreprocessing\u001b[39;00m \u001b[38;5;28;01mimport\u001b[39;00m preprocess_string, strip_punctuation, strip_numeric, remove_stopwords\n",
      "File \u001b[1;32m~\\AppData\\Roaming\\Python\\Python310\\site-packages\\gensim\\__init__.py:11\u001b[0m\n\u001b[0;32m      7\u001b[0m __version__ \u001b[38;5;241m=\u001b[39m \u001b[38;5;124m'\u001b[39m\u001b[38;5;124m4.3.3\u001b[39m\u001b[38;5;124m'\u001b[39m\n\u001b[0;32m      9\u001b[0m \u001b[38;5;28;01mimport\u001b[39;00m \u001b[38;5;21;01mlogging\u001b[39;00m\n\u001b[1;32m---> 11\u001b[0m \u001b[38;5;28;01mfrom\u001b[39;00m \u001b[38;5;21;01mgensim\u001b[39;00m \u001b[38;5;28;01mimport\u001b[39;00m parsing, corpora, matutils, interfaces, models, similarities, utils  \u001b[38;5;66;03m# noqa:F401\u001b[39;00m\n\u001b[0;32m     14\u001b[0m logger \u001b[38;5;241m=\u001b[39m logging\u001b[38;5;241m.\u001b[39mgetLogger(\u001b[38;5;124m'\u001b[39m\u001b[38;5;124mgensim\u001b[39m\u001b[38;5;124m'\u001b[39m)\n\u001b[0;32m     15\u001b[0m \u001b[38;5;28;01mif\u001b[39;00m \u001b[38;5;129;01mnot\u001b[39;00m logger\u001b[38;5;241m.\u001b[39mhandlers:  \u001b[38;5;66;03m# To ensure reload() doesn't add another one\u001b[39;00m\n",
      "File \u001b[1;32m~\\AppData\\Roaming\\Python\\Python310\\site-packages\\gensim\\corpora\\__init__.py:6\u001b[0m\n\u001b[0;32m      1\u001b[0m \u001b[38;5;124;03m\"\"\"\u001b[39;00m\n\u001b[0;32m      2\u001b[0m \u001b[38;5;124;03mThis package contains implementations of various streaming corpus I/O format.\u001b[39;00m\n\u001b[0;32m      3\u001b[0m \u001b[38;5;124;03m\"\"\"\u001b[39;00m\n\u001b[0;32m      5\u001b[0m \u001b[38;5;66;03m# bring corpus classes directly into package namespace, to save some typing\u001b[39;00m\n\u001b[1;32m----> 6\u001b[0m \u001b[38;5;28;01mfrom\u001b[39;00m \u001b[38;5;21;01m.\u001b[39;00m\u001b[38;5;21;01mindexedcorpus\u001b[39;00m \u001b[38;5;28;01mimport\u001b[39;00m IndexedCorpus  \u001b[38;5;66;03m# noqa:F401 must appear before the other classes\u001b[39;00m\n\u001b[0;32m      8\u001b[0m \u001b[38;5;28;01mfrom\u001b[39;00m \u001b[38;5;21;01m.\u001b[39;00m\u001b[38;5;21;01mmmcorpus\u001b[39;00m \u001b[38;5;28;01mimport\u001b[39;00m MmCorpus  \u001b[38;5;66;03m# noqa:F401\u001b[39;00m\n\u001b[0;32m      9\u001b[0m \u001b[38;5;28;01mfrom\u001b[39;00m \u001b[38;5;21;01m.\u001b[39;00m\u001b[38;5;21;01mbleicorpus\u001b[39;00m \u001b[38;5;28;01mimport\u001b[39;00m BleiCorpus  \u001b[38;5;66;03m# noqa:F401\u001b[39;00m\n",
      "File \u001b[1;32m~\\AppData\\Roaming\\Python\\Python310\\site-packages\\gensim\\corpora\\indexedcorpus.py:14\u001b[0m\n\u001b[0;32m     10\u001b[0m \u001b[38;5;28;01mimport\u001b[39;00m \u001b[38;5;21;01mlogging\u001b[39;00m\n\u001b[0;32m     12\u001b[0m \u001b[38;5;28;01mimport\u001b[39;00m \u001b[38;5;21;01mnumpy\u001b[39;00m\n\u001b[1;32m---> 14\u001b[0m \u001b[38;5;28;01mfrom\u001b[39;00m \u001b[38;5;21;01mgensim\u001b[39;00m \u001b[38;5;28;01mimport\u001b[39;00m interfaces, utils\n\u001b[0;32m     16\u001b[0m logger \u001b[38;5;241m=\u001b[39m logging\u001b[38;5;241m.\u001b[39mgetLogger(\u001b[38;5;18m__name__\u001b[39m)\n\u001b[0;32m     19\u001b[0m \u001b[38;5;28;01mclass\u001b[39;00m \u001b[38;5;21;01mIndexedCorpus\u001b[39;00m(interfaces\u001b[38;5;241m.\u001b[39mCorpusABC):\n",
      "File \u001b[1;32m~\\AppData\\Roaming\\Python\\Python310\\site-packages\\gensim\\interfaces.py:19\u001b[0m\n\u001b[0;32m      7\u001b[0m \u001b[38;5;124;03m\"\"\"Basic interfaces used across the whole Gensim package.\u001b[39;00m\n\u001b[0;32m      8\u001b[0m \n\u001b[0;32m      9\u001b[0m \u001b[38;5;124;03mThese interfaces are used for building corpora, model transformation and similarity queries.\u001b[39;00m\n\u001b[1;32m   (...)\u001b[0m\n\u001b[0;32m     14\u001b[0m \n\u001b[0;32m     15\u001b[0m \u001b[38;5;124;03m\"\"\"\u001b[39;00m\n\u001b[0;32m     17\u001b[0m \u001b[38;5;28;01mimport\u001b[39;00m \u001b[38;5;21;01mlogging\u001b[39;00m\n\u001b[1;32m---> 19\u001b[0m \u001b[38;5;28;01mfrom\u001b[39;00m \u001b[38;5;21;01mgensim\u001b[39;00m \u001b[38;5;28;01mimport\u001b[39;00m utils, matutils\n\u001b[0;32m     22\u001b[0m logger \u001b[38;5;241m=\u001b[39m logging\u001b[38;5;241m.\u001b[39mgetLogger(\u001b[38;5;18m__name__\u001b[39m)\n\u001b[0;32m     25\u001b[0m \u001b[38;5;28;01mclass\u001b[39;00m \u001b[38;5;21;01mCorpusABC\u001b[39;00m(utils\u001b[38;5;241m.\u001b[39mSaveLoad):\n",
      "File \u001b[1;32m~\\AppData\\Roaming\\Python\\Python310\\site-packages\\gensim\\matutils.py:1358\u001b[0m\n\u001b[0;32m   1356\u001b[0m     \u001b[38;5;28;01mfrom\u001b[39;00m \u001b[38;5;21;01mgensim\u001b[39;00m\u001b[38;5;21;01m.\u001b[39;00m\u001b[38;5;21;01mcorpora\u001b[39;00m\u001b[38;5;21;01m.\u001b[39;00m\u001b[38;5;21;01m_mmreader\u001b[39;00m \u001b[38;5;28;01mimport\u001b[39;00m MmReader  \u001b[38;5;66;03m# noqa: F401\u001b[39;00m\n\u001b[0;32m   1357\u001b[0m \u001b[38;5;28;01mexcept\u001b[39;00m \u001b[38;5;167;01mImportError\u001b[39;00m:\n\u001b[1;32m-> 1358\u001b[0m     \u001b[38;5;28;01mraise\u001b[39;00m utils\u001b[38;5;241m.\u001b[39mNO_CYTHON\n",
      "    \u001b[1;31m[... skipping hidden 1 frame]\u001b[0m\n",
      "Cell \u001b[1;32mIn[19], line 8\u001b[0m\n\u001b[0;32m      6\u001b[0m \u001b[38;5;28;01mimport\u001b[39;00m \u001b[38;5;21;01mnltk\u001b[39;00m\n\u001b[0;32m      7\u001b[0m \u001b[38;5;28;01mfrom\u001b[39;00m \u001b[38;5;21;01mnltk\u001b[39;00m\u001b[38;5;21;01m.\u001b[39;00m\u001b[38;5;21;01mcorpus\u001b[39;00m \u001b[38;5;28;01mimport\u001b[39;00m stopwords\n\u001b[1;32m----> 8\u001b[0m \u001b[38;5;28;01mfrom\u001b[39;00m \u001b[38;5;21;01mgensim\u001b[39;00m \u001b[38;5;28;01mimport\u001b[39;00m corpora\n\u001b[0;32m      9\u001b[0m \u001b[38;5;28;01mfrom\u001b[39;00m \u001b[38;5;21;01mgensim\u001b[39;00m\u001b[38;5;21;01m.\u001b[39;00m\u001b[38;5;21;01mmodels\u001b[39;00m \u001b[38;5;28;01mimport\u001b[39;00m LdaModel\n\u001b[0;32m     10\u001b[0m \u001b[38;5;28;01mfrom\u001b[39;00m \u001b[38;5;21;01mgensim\u001b[39;00m\u001b[38;5;21;01m.\u001b[39;00m\u001b[38;5;21;01mparsing\u001b[39;00m\u001b[38;5;21;01m.\u001b[39;00m\u001b[38;5;21;01mpreprocessing\u001b[39;00m \u001b[38;5;28;01mimport\u001b[39;00m preprocess_string, strip_punctuation, strip_numeric, remove_stopwords\n",
      "File \u001b[1;32m~\\AppData\\Roaming\\Python\\Python310\\site-packages\\gensim\\__init__.py:11\u001b[0m\n\u001b[0;32m      7\u001b[0m __version__ \u001b[38;5;241m=\u001b[39m \u001b[38;5;124m'\u001b[39m\u001b[38;5;124m4.3.3\u001b[39m\u001b[38;5;124m'\u001b[39m\n\u001b[0;32m      9\u001b[0m \u001b[38;5;28;01mimport\u001b[39;00m \u001b[38;5;21;01mlogging\u001b[39;00m\n\u001b[1;32m---> 11\u001b[0m \u001b[38;5;28;01mfrom\u001b[39;00m \u001b[38;5;21;01mgensim\u001b[39;00m \u001b[38;5;28;01mimport\u001b[39;00m parsing, corpora, matutils, interfaces, models, similarities, utils  \u001b[38;5;66;03m# noqa:F401\u001b[39;00m\n\u001b[0;32m     14\u001b[0m logger \u001b[38;5;241m=\u001b[39m logging\u001b[38;5;241m.\u001b[39mgetLogger(\u001b[38;5;124m'\u001b[39m\u001b[38;5;124mgensim\u001b[39m\u001b[38;5;124m'\u001b[39m)\n\u001b[0;32m     15\u001b[0m \u001b[38;5;28;01mif\u001b[39;00m \u001b[38;5;129;01mnot\u001b[39;00m logger\u001b[38;5;241m.\u001b[39mhandlers:  \u001b[38;5;66;03m# To ensure reload() doesn't add another one\u001b[39;00m\n",
      "File \u001b[1;32m~\\AppData\\Roaming\\Python\\Python310\\site-packages\\gensim\\corpora\\__init__.py:6\u001b[0m\n\u001b[0;32m      1\u001b[0m \u001b[38;5;124;03m\"\"\"\u001b[39;00m\n\u001b[0;32m      2\u001b[0m \u001b[38;5;124;03mThis package contains implementations of various streaming corpus I/O format.\u001b[39;00m\n\u001b[0;32m      3\u001b[0m \u001b[38;5;124;03m\"\"\"\u001b[39;00m\n\u001b[0;32m      5\u001b[0m \u001b[38;5;66;03m# bring corpus classes directly into package namespace, to save some typing\u001b[39;00m\n\u001b[1;32m----> 6\u001b[0m \u001b[38;5;28;01mfrom\u001b[39;00m \u001b[38;5;21;01m.\u001b[39;00m\u001b[38;5;21;01mindexedcorpus\u001b[39;00m \u001b[38;5;28;01mimport\u001b[39;00m IndexedCorpus  \u001b[38;5;66;03m# noqa:F401 must appear before the other classes\u001b[39;00m\n\u001b[0;32m      8\u001b[0m \u001b[38;5;28;01mfrom\u001b[39;00m \u001b[38;5;21;01m.\u001b[39;00m\u001b[38;5;21;01mmmcorpus\u001b[39;00m \u001b[38;5;28;01mimport\u001b[39;00m MmCorpus  \u001b[38;5;66;03m# noqa:F401\u001b[39;00m\n\u001b[0;32m      9\u001b[0m \u001b[38;5;28;01mfrom\u001b[39;00m \u001b[38;5;21;01m.\u001b[39;00m\u001b[38;5;21;01mbleicorpus\u001b[39;00m \u001b[38;5;28;01mimport\u001b[39;00m BleiCorpus  \u001b[38;5;66;03m# noqa:F401\u001b[39;00m\n",
      "File \u001b[1;32m~\\AppData\\Roaming\\Python\\Python310\\site-packages\\gensim\\corpora\\indexedcorpus.py:14\u001b[0m\n\u001b[0;32m     10\u001b[0m \u001b[38;5;28;01mimport\u001b[39;00m \u001b[38;5;21;01mlogging\u001b[39;00m\n\u001b[0;32m     12\u001b[0m \u001b[38;5;28;01mimport\u001b[39;00m \u001b[38;5;21;01mnumpy\u001b[39;00m\n\u001b[1;32m---> 14\u001b[0m \u001b[38;5;28;01mfrom\u001b[39;00m \u001b[38;5;21;01mgensim\u001b[39;00m \u001b[38;5;28;01mimport\u001b[39;00m interfaces, utils\n\u001b[0;32m     16\u001b[0m logger \u001b[38;5;241m=\u001b[39m logging\u001b[38;5;241m.\u001b[39mgetLogger(\u001b[38;5;18m__name__\u001b[39m)\n\u001b[0;32m     19\u001b[0m \u001b[38;5;28;01mclass\u001b[39;00m \u001b[38;5;21;01mIndexedCorpus\u001b[39;00m(interfaces\u001b[38;5;241m.\u001b[39mCorpusABC):\n",
      "File \u001b[1;32m~\\AppData\\Roaming\\Python\\Python310\\site-packages\\gensim\\interfaces.py:19\u001b[0m\n\u001b[0;32m      7\u001b[0m \u001b[38;5;124;03m\"\"\"Basic interfaces used across the whole Gensim package.\u001b[39;00m\n\u001b[0;32m      8\u001b[0m \n\u001b[0;32m      9\u001b[0m \u001b[38;5;124;03mThese interfaces are used for building corpora, model transformation and similarity queries.\u001b[39;00m\n\u001b[1;32m   (...)\u001b[0m\n\u001b[0;32m     14\u001b[0m \n\u001b[0;32m     15\u001b[0m \u001b[38;5;124;03m\"\"\"\u001b[39;00m\n\u001b[0;32m     17\u001b[0m \u001b[38;5;28;01mimport\u001b[39;00m \u001b[38;5;21;01mlogging\u001b[39;00m\n\u001b[1;32m---> 19\u001b[0m \u001b[38;5;28;01mfrom\u001b[39;00m \u001b[38;5;21;01mgensim\u001b[39;00m \u001b[38;5;28;01mimport\u001b[39;00m utils, matutils\n\u001b[0;32m     22\u001b[0m logger \u001b[38;5;241m=\u001b[39m logging\u001b[38;5;241m.\u001b[39mgetLogger(\u001b[38;5;18m__name__\u001b[39m)\n\u001b[0;32m     25\u001b[0m \u001b[38;5;28;01mclass\u001b[39;00m \u001b[38;5;21;01mCorpusABC\u001b[39;00m(utils\u001b[38;5;241m.\u001b[39mSaveLoad):\n",
      "File \u001b[1;32m~\\AppData\\Roaming\\Python\\Python310\\site-packages\\gensim\\matutils.py:1358\u001b[0m\n\u001b[0;32m   1356\u001b[0m     \u001b[38;5;28;01mfrom\u001b[39;00m \u001b[38;5;21;01mgensim\u001b[39;00m\u001b[38;5;21;01m.\u001b[39;00m\u001b[38;5;21;01mcorpora\u001b[39;00m\u001b[38;5;21;01m.\u001b[39;00m\u001b[38;5;21;01m_mmreader\u001b[39;00m \u001b[38;5;28;01mimport\u001b[39;00m MmReader  \u001b[38;5;66;03m# noqa: F401\u001b[39;00m\n\u001b[0;32m   1357\u001b[0m \u001b[38;5;28;01mexcept\u001b[39;00m \u001b[38;5;167;01mImportError\u001b[39;00m:\n\u001b[1;32m-> 1358\u001b[0m     \u001b[38;5;28;01mraise\u001b[39;00m utils\u001b[38;5;241m.\u001b[39mNO_CYTHON\n",
      "    \u001b[1;31m[... skipping hidden 1 frame]\u001b[0m\n",
      "Cell \u001b[1;32mIn[19], line 8\u001b[0m\n\u001b[0;32m      6\u001b[0m \u001b[38;5;28;01mimport\u001b[39;00m \u001b[38;5;21;01mnltk\u001b[39;00m\n\u001b[0;32m      7\u001b[0m \u001b[38;5;28;01mfrom\u001b[39;00m \u001b[38;5;21;01mnltk\u001b[39;00m\u001b[38;5;21;01m.\u001b[39;00m\u001b[38;5;21;01mcorpus\u001b[39;00m \u001b[38;5;28;01mimport\u001b[39;00m stopwords\n\u001b[1;32m----> 8\u001b[0m \u001b[38;5;28;01mfrom\u001b[39;00m \u001b[38;5;21;01mgensim\u001b[39;00m \u001b[38;5;28;01mimport\u001b[39;00m corpora\n\u001b[0;32m      9\u001b[0m \u001b[38;5;28;01mfrom\u001b[39;00m \u001b[38;5;21;01mgensim\u001b[39;00m\u001b[38;5;21;01m.\u001b[39;00m\u001b[38;5;21;01mmodels\u001b[39;00m \u001b[38;5;28;01mimport\u001b[39;00m LdaModel\n\u001b[0;32m     10\u001b[0m \u001b[38;5;28;01mfrom\u001b[39;00m \u001b[38;5;21;01mgensim\u001b[39;00m\u001b[38;5;21;01m.\u001b[39;00m\u001b[38;5;21;01mparsing\u001b[39;00m\u001b[38;5;21;01m.\u001b[39;00m\u001b[38;5;21;01mpreprocessing\u001b[39;00m \u001b[38;5;28;01mimport\u001b[39;00m preprocess_string, strip_punctuation, strip_numeric, remove_stopwords\n",
      "File \u001b[1;32m~\\AppData\\Roaming\\Python\\Python310\\site-packages\\gensim\\__init__.py:11\u001b[0m\n\u001b[0;32m      7\u001b[0m __version__ \u001b[38;5;241m=\u001b[39m \u001b[38;5;124m'\u001b[39m\u001b[38;5;124m4.3.3\u001b[39m\u001b[38;5;124m'\u001b[39m\n\u001b[0;32m      9\u001b[0m \u001b[38;5;28;01mimport\u001b[39;00m \u001b[38;5;21;01mlogging\u001b[39;00m\n\u001b[1;32m---> 11\u001b[0m \u001b[38;5;28;01mfrom\u001b[39;00m \u001b[38;5;21;01mgensim\u001b[39;00m \u001b[38;5;28;01mimport\u001b[39;00m parsing, corpora, matutils, interfaces, models, similarities, utils  \u001b[38;5;66;03m# noqa:F401\u001b[39;00m\n\u001b[0;32m     14\u001b[0m logger \u001b[38;5;241m=\u001b[39m logging\u001b[38;5;241m.\u001b[39mgetLogger(\u001b[38;5;124m'\u001b[39m\u001b[38;5;124mgensim\u001b[39m\u001b[38;5;124m'\u001b[39m)\n\u001b[0;32m     15\u001b[0m \u001b[38;5;28;01mif\u001b[39;00m \u001b[38;5;129;01mnot\u001b[39;00m logger\u001b[38;5;241m.\u001b[39mhandlers:  \u001b[38;5;66;03m# To ensure reload() doesn't add another one\u001b[39;00m\n",
      "File \u001b[1;32m~\\AppData\\Roaming\\Python\\Python310\\site-packages\\gensim\\corpora\\__init__.py:6\u001b[0m\n\u001b[0;32m      1\u001b[0m \u001b[38;5;124;03m\"\"\"\u001b[39;00m\n\u001b[0;32m      2\u001b[0m \u001b[38;5;124;03mThis package contains implementations of various streaming corpus I/O format.\u001b[39;00m\n\u001b[0;32m      3\u001b[0m \u001b[38;5;124;03m\"\"\"\u001b[39;00m\n\u001b[0;32m      5\u001b[0m \u001b[38;5;66;03m# bring corpus classes directly into package namespace, to save some typing\u001b[39;00m\n\u001b[1;32m----> 6\u001b[0m \u001b[38;5;28;01mfrom\u001b[39;00m \u001b[38;5;21;01m.\u001b[39;00m\u001b[38;5;21;01mindexedcorpus\u001b[39;00m \u001b[38;5;28;01mimport\u001b[39;00m IndexedCorpus  \u001b[38;5;66;03m# noqa:F401 must appear before the other classes\u001b[39;00m\n\u001b[0;32m      8\u001b[0m \u001b[38;5;28;01mfrom\u001b[39;00m \u001b[38;5;21;01m.\u001b[39;00m\u001b[38;5;21;01mmmcorpus\u001b[39;00m \u001b[38;5;28;01mimport\u001b[39;00m MmCorpus  \u001b[38;5;66;03m# noqa:F401\u001b[39;00m\n\u001b[0;32m      9\u001b[0m \u001b[38;5;28;01mfrom\u001b[39;00m \u001b[38;5;21;01m.\u001b[39;00m\u001b[38;5;21;01mbleicorpus\u001b[39;00m \u001b[38;5;28;01mimport\u001b[39;00m BleiCorpus  \u001b[38;5;66;03m# noqa:F401\u001b[39;00m\n",
      "File \u001b[1;32m~\\AppData\\Roaming\\Python\\Python310\\site-packages\\gensim\\corpora\\indexedcorpus.py:14\u001b[0m\n\u001b[0;32m     10\u001b[0m \u001b[38;5;28;01mimport\u001b[39;00m \u001b[38;5;21;01mlogging\u001b[39;00m\n\u001b[0;32m     12\u001b[0m \u001b[38;5;28;01mimport\u001b[39;00m \u001b[38;5;21;01mnumpy\u001b[39;00m\n\u001b[1;32m---> 14\u001b[0m \u001b[38;5;28;01mfrom\u001b[39;00m \u001b[38;5;21;01mgensim\u001b[39;00m \u001b[38;5;28;01mimport\u001b[39;00m interfaces, utils\n\u001b[0;32m     16\u001b[0m logger \u001b[38;5;241m=\u001b[39m logging\u001b[38;5;241m.\u001b[39mgetLogger(\u001b[38;5;18m__name__\u001b[39m)\n\u001b[0;32m     19\u001b[0m \u001b[38;5;28;01mclass\u001b[39;00m \u001b[38;5;21;01mIndexedCorpus\u001b[39;00m(interfaces\u001b[38;5;241m.\u001b[39mCorpusABC):\n",
      "File \u001b[1;32m~\\AppData\\Roaming\\Python\\Python310\\site-packages\\gensim\\interfaces.py:19\u001b[0m\n\u001b[0;32m      7\u001b[0m \u001b[38;5;124;03m\"\"\"Basic interfaces used across the whole Gensim package.\u001b[39;00m\n\u001b[0;32m      8\u001b[0m \n\u001b[0;32m      9\u001b[0m \u001b[38;5;124;03mThese interfaces are used for building corpora, model transformation and similarity queries.\u001b[39;00m\n\u001b[1;32m   (...)\u001b[0m\n\u001b[0;32m     14\u001b[0m \n\u001b[0;32m     15\u001b[0m \u001b[38;5;124;03m\"\"\"\u001b[39;00m\n\u001b[0;32m     17\u001b[0m \u001b[38;5;28;01mimport\u001b[39;00m \u001b[38;5;21;01mlogging\u001b[39;00m\n\u001b[1;32m---> 19\u001b[0m \u001b[38;5;28;01mfrom\u001b[39;00m \u001b[38;5;21;01mgensim\u001b[39;00m \u001b[38;5;28;01mimport\u001b[39;00m utils, matutils\n\u001b[0;32m     22\u001b[0m logger \u001b[38;5;241m=\u001b[39m logging\u001b[38;5;241m.\u001b[39mgetLogger(\u001b[38;5;18m__name__\u001b[39m)\n\u001b[0;32m     25\u001b[0m \u001b[38;5;28;01mclass\u001b[39;00m \u001b[38;5;21;01mCorpusABC\u001b[39;00m(utils\u001b[38;5;241m.\u001b[39mSaveLoad):\n",
      "File \u001b[1;32m~\\AppData\\Roaming\\Python\\Python310\\site-packages\\gensim\\matutils.py:1358\u001b[0m\n\u001b[0;32m   1356\u001b[0m     \u001b[38;5;28;01mfrom\u001b[39;00m \u001b[38;5;21;01mgensim\u001b[39;00m\u001b[38;5;21;01m.\u001b[39;00m\u001b[38;5;21;01mcorpora\u001b[39;00m\u001b[38;5;21;01m.\u001b[39;00m\u001b[38;5;21;01m_mmreader\u001b[39;00m \u001b[38;5;28;01mimport\u001b[39;00m MmReader  \u001b[38;5;66;03m# noqa: F401\u001b[39;00m\n\u001b[0;32m   1357\u001b[0m \u001b[38;5;28;01mexcept\u001b[39;00m \u001b[38;5;167;01mImportError\u001b[39;00m:\n\u001b[1;32m-> 1358\u001b[0m     \u001b[38;5;28;01mraise\u001b[39;00m utils\u001b[38;5;241m.\u001b[39mNO_CYTHON\n",
      "\u001b[1;31mRuntimeError\u001b[0m: Compiled extensions are unavailable. If you've installed from a package, ask the package maintainer to include compiled extensions. If you're building Gensim from source yourself, install Cython and a C compiler, and then run `python setup.py build_ext --inplace` to retry. "
     ]
    }
   ],
   "source": [
    "import os\n",
    "import concurrent.futures\n",
    "import openai\n",
    "import pandas as pd\n",
    "import re\n",
    "import nltk\n",
    "from nltk.corpus import stopwords\n",
    "from gensim import corpora\n",
    "from gensim.models import LdaModel\n",
    "from gensim.parsing.preprocessing import preprocess_string, strip_punctuation, strip_numeric, remove_stopwords\n",
    "df = pd.read_csv(\"NEWS_YAHOO_stock_prediction.csv\")\n",
    "import time\n",
    "from tqdm import tqdm\n"
   ]
  },
  {
   "cell_type": "code",
   "execution_count": 20,
   "metadata": {},
   "outputs": [
    {
     "data": {
      "text/html": [
       "<div>\n",
       "<style scoped>\n",
       "    .dataframe tbody tr th:only-of-type {\n",
       "        vertical-align: middle;\n",
       "    }\n",
       "\n",
       "    .dataframe tbody tr th {\n",
       "        vertical-align: top;\n",
       "    }\n",
       "\n",
       "    .dataframe thead th {\n",
       "        text-align: right;\n",
       "    }\n",
       "</style>\n",
       "<table border=\"1\" class=\"dataframe\">\n",
       "  <thead>\n",
       "    <tr style=\"text-align: right;\">\n",
       "      <th></th>\n",
       "      <th>ticker</th>\n",
       "      <th>category</th>\n",
       "      <th>title</th>\n",
       "      <th>content</th>\n",
       "      <th>Open</th>\n",
       "      <th>High</th>\n",
       "      <th>Low</th>\n",
       "      <th>Close</th>\n",
       "      <th>Adj Close</th>\n",
       "      <th>Volume</th>\n",
       "      <th>label</th>\n",
       "    </tr>\n",
       "    <tr>\n",
       "      <th>Date</th>\n",
       "      <th></th>\n",
       "      <th></th>\n",
       "      <th></th>\n",
       "      <th></th>\n",
       "      <th></th>\n",
       "      <th></th>\n",
       "      <th></th>\n",
       "      <th></th>\n",
       "      <th></th>\n",
       "      <th></th>\n",
       "      <th></th>\n",
       "    </tr>\n",
       "  </thead>\n",
       "  <tbody>\n",
       "    <tr>\n",
       "      <th>2020-01-27</th>\n",
       "      <td>AAPL</td>\n",
       "      <td>opinion</td>\n",
       "      <td>Apple Set To Beat Q1 Earnings Estimates  Tech ...</td>\n",
       "      <td>Technology giant Apple   NASDAQ AAPL   is set ...</td>\n",
       "      <td>77.514999</td>\n",
       "      <td>77.942497</td>\n",
       "      <td>76.220001</td>\n",
       "      <td>77.237503</td>\n",
       "      <td>75.793358</td>\n",
       "      <td>161940000</td>\n",
       "      <td>0</td>\n",
       "    </tr>\n",
       "    <tr>\n",
       "      <th>2020-01-27</th>\n",
       "      <td>AAPL</td>\n",
       "      <td>opinion</td>\n",
       "      <td>Tech Daily  Intel Results  Netflix Surge  Appl...</td>\n",
       "      <td>The top stories in this digest are Intel s   N...</td>\n",
       "      <td>77.514999</td>\n",
       "      <td>77.942497</td>\n",
       "      <td>76.220001</td>\n",
       "      <td>77.237503</td>\n",
       "      <td>75.793358</td>\n",
       "      <td>161940000</td>\n",
       "      <td>0</td>\n",
       "    </tr>\n",
       "    <tr>\n",
       "      <th>2020-01-27</th>\n",
       "      <td>AAPL</td>\n",
       "      <td>opinion</td>\n",
       "      <td>7 Monster Stock Market Predictions For The Wee...</td>\n",
       "      <td>S P 500  SPY \\nThis week will be packed with e...</td>\n",
       "      <td>77.514999</td>\n",
       "      <td>77.942497</td>\n",
       "      <td>76.220001</td>\n",
       "      <td>77.237503</td>\n",
       "      <td>75.793358</td>\n",
       "      <td>161940000</td>\n",
       "      <td>0</td>\n",
       "    </tr>\n",
       "    <tr>\n",
       "      <th>2020-01-27</th>\n",
       "      <td>AAPL</td>\n",
       "      <td>opinion</td>\n",
       "      <td>Apple Earnings Preview  5G Launch  Expanding S...</td>\n",
       "      <td>Reports Q1 2020 results on Tuesday  Jan  28 ...</td>\n",
       "      <td>77.514999</td>\n",
       "      <td>77.942497</td>\n",
       "      <td>76.220001</td>\n",
       "      <td>77.237503</td>\n",
       "      <td>75.793358</td>\n",
       "      <td>161940000</td>\n",
       "      <td>0</td>\n",
       "    </tr>\n",
       "    <tr>\n",
       "      <th>2020-01-27</th>\n",
       "      <td>AAPL</td>\n",
       "      <td>opinion</td>\n",
       "      <td>Buy Surging Apple   Microsoft Stock Before Qua...</td>\n",
       "      <td>On today s episode of Full Court Finance here ...</td>\n",
       "      <td>77.514999</td>\n",
       "      <td>77.942497</td>\n",
       "      <td>76.220001</td>\n",
       "      <td>77.237503</td>\n",
       "      <td>75.793358</td>\n",
       "      <td>161940000</td>\n",
       "      <td>0</td>\n",
       "    </tr>\n",
       "    <tr>\n",
       "      <th>...</th>\n",
       "      <td>...</td>\n",
       "      <td>...</td>\n",
       "      <td>...</td>\n",
       "      <td>...</td>\n",
       "      <td>...</td>\n",
       "      <td>...</td>\n",
       "      <td>...</td>\n",
       "      <td>...</td>\n",
       "      <td>...</td>\n",
       "      <td>...</td>\n",
       "      <td>...</td>\n",
       "    </tr>\n",
       "    <tr>\n",
       "      <th>2012-07-31</th>\n",
       "      <td>AAPL</td>\n",
       "      <td>opinion</td>\n",
       "      <td>What s Driving China s Real Estate Rally   Par...</td>\n",
       "      <td>In the preceding posts  I examined the first t...</td>\n",
       "      <td>21.543928</td>\n",
       "      <td>21.846430</td>\n",
       "      <td>21.525715</td>\n",
       "      <td>21.812857</td>\n",
       "      <td>18.624512</td>\n",
       "      <td>462327600</td>\n",
       "      <td>1</td>\n",
       "    </tr>\n",
       "    <tr>\n",
       "      <th>2012-07-31</th>\n",
       "      <td>AAPL</td>\n",
       "      <td>opinion</td>\n",
       "      <td>50 Stocks With The Best Dividend Growth In Jul...</td>\n",
       "      <td>Here is a current sheet of companies with fast...</td>\n",
       "      <td>21.543928</td>\n",
       "      <td>21.846430</td>\n",
       "      <td>21.525715</td>\n",
       "      <td>21.812857</td>\n",
       "      <td>18.624512</td>\n",
       "      <td>462327600</td>\n",
       "      <td>1</td>\n",
       "    </tr>\n",
       "    <tr>\n",
       "      <th>2012-07-23</th>\n",
       "      <td>AAPL</td>\n",
       "      <td>opinion</td>\n",
       "      <td>Summer Heat Scorches Europe And U S</td>\n",
       "      <td>Europe flares as summer heat continues  Summer...</td>\n",
       "      <td>21.228571</td>\n",
       "      <td>21.639286</td>\n",
       "      <td>20.989643</td>\n",
       "      <td>21.565357</td>\n",
       "      <td>18.413187</td>\n",
       "      <td>487975600</td>\n",
       "      <td>1</td>\n",
       "    </tr>\n",
       "    <tr>\n",
       "      <th>2012-07-23</th>\n",
       "      <td>AAPL</td>\n",
       "      <td>opinion</td>\n",
       "      <td>Apple Earnings Preview  Quarterly Dip On Deck</td>\n",
       "      <td>Last quarter Apple  AAPL  reported the 2nd bes...</td>\n",
       "      <td>21.228571</td>\n",
       "      <td>21.639286</td>\n",
       "      <td>20.989643</td>\n",
       "      <td>21.565357</td>\n",
       "      <td>18.413187</td>\n",
       "      <td>487975600</td>\n",
       "      <td>1</td>\n",
       "    </tr>\n",
       "    <tr>\n",
       "      <th>2012-07-23</th>\n",
       "      <td>AAPL</td>\n",
       "      <td>opinion</td>\n",
       "      <td>Trade Apple After Earnings</td>\n",
       "      <td>It may look like a spider web  but the mishmas...</td>\n",
       "      <td>21.228571</td>\n",
       "      <td>21.639286</td>\n",
       "      <td>20.989643</td>\n",
       "      <td>21.565357</td>\n",
       "      <td>18.413187</td>\n",
       "      <td>487975600</td>\n",
       "      <td>1</td>\n",
       "    </tr>\n",
       "  </tbody>\n",
       "</table>\n",
       "<p>15975 rows × 11 columns</p>\n",
       "</div>"
      ],
      "text/plain": [
       "           ticker category                                              title  \\\n",
       "Date                                                                            \n",
       "2020-01-27   AAPL  opinion  Apple Set To Beat Q1 Earnings Estimates  Tech ...   \n",
       "2020-01-27   AAPL  opinion  Tech Daily  Intel Results  Netflix Surge  Appl...   \n",
       "2020-01-27   AAPL  opinion  7 Monster Stock Market Predictions For The Wee...   \n",
       "2020-01-27   AAPL  opinion  Apple Earnings Preview  5G Launch  Expanding S...   \n",
       "2020-01-27   AAPL  opinion  Buy Surging Apple   Microsoft Stock Before Qua...   \n",
       "...           ...      ...                                                ...   \n",
       "2012-07-31   AAPL  opinion  What s Driving China s Real Estate Rally   Par...   \n",
       "2012-07-31   AAPL  opinion  50 Stocks With The Best Dividend Growth In Jul...   \n",
       "2012-07-23   AAPL  opinion               Summer Heat Scorches Europe And U S    \n",
       "2012-07-23   AAPL  opinion     Apple Earnings Preview  Quarterly Dip On Deck    \n",
       "2012-07-23   AAPL  opinion                         Trade Apple After Earnings   \n",
       "\n",
       "                                                      content       Open  \\\n",
       "Date                                                                       \n",
       "2020-01-27  Technology giant Apple   NASDAQ AAPL   is set ...  77.514999   \n",
       "2020-01-27  The top stories in this digest are Intel s   N...  77.514999   \n",
       "2020-01-27  S P 500  SPY \\nThis week will be packed with e...  77.514999   \n",
       "2020-01-27    Reports Q1 2020 results on Tuesday  Jan  28 ...  77.514999   \n",
       "2020-01-27  On today s episode of Full Court Finance here ...  77.514999   \n",
       "...                                                       ...        ...   \n",
       "2012-07-31  In the preceding posts  I examined the first t...  21.543928   \n",
       "2012-07-31  Here is a current sheet of companies with fast...  21.543928   \n",
       "2012-07-23  Europe flares as summer heat continues  Summer...  21.228571   \n",
       "2012-07-23  Last quarter Apple  AAPL  reported the 2nd bes...  21.228571   \n",
       "2012-07-23  It may look like a spider web  but the mishmas...  21.228571   \n",
       "\n",
       "                 High        Low      Close  Adj Close     Volume  label  \n",
       "Date                                                                      \n",
       "2020-01-27  77.942497  76.220001  77.237503  75.793358  161940000      0  \n",
       "2020-01-27  77.942497  76.220001  77.237503  75.793358  161940000      0  \n",
       "2020-01-27  77.942497  76.220001  77.237503  75.793358  161940000      0  \n",
       "2020-01-27  77.942497  76.220001  77.237503  75.793358  161940000      0  \n",
       "2020-01-27  77.942497  76.220001  77.237503  75.793358  161940000      0  \n",
       "...               ...        ...        ...        ...        ...    ...  \n",
       "2012-07-31  21.846430  21.525715  21.812857  18.624512  462327600      1  \n",
       "2012-07-31  21.846430  21.525715  21.812857  18.624512  462327600      1  \n",
       "2012-07-23  21.639286  20.989643  21.565357  18.413187  487975600      1  \n",
       "2012-07-23  21.639286  20.989643  21.565357  18.413187  487975600      1  \n",
       "2012-07-23  21.639286  20.989643  21.565357  18.413187  487975600      1  \n",
       "\n",
       "[15975 rows x 11 columns]"
      ]
     },
     "execution_count": 20,
     "metadata": {},
     "output_type": "execute_result"
    }
   ],
   "source": [
    "df.drop(columns=\"Unnamed: 0\",inplace=True)\n",
    "df.set_index(\"Date\")\n"
   ]
  },
  {
   "cell_type": "code",
   "execution_count": 21,
   "metadata": {},
   "outputs": [],
   "source": [
    "\n",
    "# Load dataset\n",
    "df = df.dropna(subset=[\"content\"])\n",
    "\n",
    "# Preprocess text (custom pipeline)\n",
    "def preprocess_text(text):\n",
    "    filters = [lambda x: x.lower(), strip_punctuation, strip_numeric, remove_stopwords]\n",
    "    return preprocess_string(text, filters)\n",
    "\n",
    "df[\"cleaned_text\"] = df[\"content\"].apply(preprocess_text)\n",
    "\n",
    "# Create dictionary and corpus\n",
    "dictionary = corpora.Dictionary(df[\"cleaned_text\"])\n",
    "corpus = [dictionary.doc2bow(text) for text in df[\"cleaned_text\"]]\n",
    "\n",
    "# Number of topics\n",
    "num_topics = 5\n",
    "\n",
    "# Train LDA model\n",
    "lda_model = LdaModel(corpus, num_topics=num_topics, id2word=dictionary, passes=10, random_state=42)\n",
    "\n",
    "# Extract topic affinities\n",
    "topic_affinities = []\n",
    "for doc in corpus:\n",
    "    topics = lda_model.get_document_topics(doc, minimum_probability=0)\n",
    "    topic_affinities.append([prob for _, prob in topics])\n",
    "\n",
    "# Convert to DataFrame\n",
    "df_topics = pd.DataFrame(topic_affinities, columns=[f\"Topic_{i}\" for i in range(num_topics)])\n",
    "df_final = pd.concat([df, df_topics], axis=1)\n",
    "\n",
    "# Save and display\n",
    "df_final.to_csv(\"news_with_topics_gensim.csv\", index=False)\n",
    "\n",
    "\n"
   ]
  },
  {
   "cell_type": "code",
   "execution_count": 3,
   "metadata": {},
   "outputs": [],
   "source": [
    "import pandas as pd\n",
    "import concurrent.futures\n",
    "from tqdm import tqdm\n",
    "from openai import OpenAI\n",
    "\n",
    "# Load API key from file\n",
    "with open(\"api.txt\", \"r\") as file:\n",
    "    api_key = file.read().strip()\n",
    "\n",
    "# Initialize OpenAI client with OpenRouter\n",
    "client = OpenAI(\n",
    "    base_url=\"https://openrouter.ai/api/v1\",\n",
    "    api_key=api_key,\n",
    "    default_headers={  # Set headers here, as OpenRouter recommends\n",
    "        \"HTTP-Referer\": \"https://your-site.com\",  # Optional: Replace with your site URL\n",
    "        \"X-Title\": \"Your Site Name\",  # Optional: Replace with your site name\n",
    "    }\n",
    ")"
   ]
  },
  {
   "cell_type": "code",
   "execution_count": null,
   "metadata": {},
   "outputs": [],
   "source": []
  },
  {
   "cell_type": "code",
   "execution_count": 5,
   "metadata": {},
   "outputs": [],
   "source": [
    "df = pd.read_csv(\"news_with_topics_gensim.csv\")"
   ]
  },
  {
   "cell_type": "markdown",
   "metadata": {},
   "source": [
    "## Version 1: Parallel computing"
   ]
  },
  {
   "cell_type": "code",
   "execution_count": 13,
   "metadata": {},
   "outputs": [
    {
     "name": "stderr",
     "output_type": "stream",
     "text": [
      "Processing:   0%|          | 0/20 [00:00<?, ?it/s]"
     ]
    },
    {
     "name": "stdout",
     "output_type": "stream",
     "text": [
      "Wedbush bullish despite  Apple s darkest day  Wedbush analyst Daniel Ives lowers his Apple  AAPL  9 8   target from  275 to  200 and calls the Q1 warning  Apple s darkest day  Ives   Apple s decisions over the coming months around pricing  future hardware redesigns  timing of 5G smartphones  and driving its core services business will have implications for years to come as Cupertino now faces the biggest fear among bulls which is an installed base  we estimate roughly 750 million active iPhones worldwide  that could stall out and not grow over the coming years and in a nightmare scenario decline  The analyst maintains an Outperform rating and says he remains bullish on the Apple story despite yesterday s  black eye  Source  Research note Now read \n"
     ]
    },
    {
     "name": "stderr",
     "output_type": "stream",
     "text": [
      "Processing:   5%|▌         | 1/20 [00:02<00:44,  2.37s/it]"
     ]
    },
    {
     "name": "stdout",
     "output_type": "stream",
     "text": [
      "Will Advanced Micro Devices  AMD  Reach A New 52 Week High  Shares of Advanced Micro Devices   NASDAQ AMD   gained more than 3  in morning trading Wednesday  extending the run of positive momentum that has seen the trendy chipmaker gain more than 16  over the past four weeks \n",
      "AMD s recent run comes as analysts and investors continue to get more bullish on the company and its products  For example  earlier this week Baird analyst Tristan Gerra suggested that AMD could be positioned to gain market share in the data center space which is dominated by Intel   NASDAQ INTC   thanks to its recently launched EPYC architecture \n",
      "And that s not the only place where AMD is gaining market share  According to a recent  from PC benchmarking site PassMark  tests involving AMD central processing units accounted for almost 26  of all x86 compatible tests submitted in the most recent quarter  up from 21  in the prior quarter and 18  last year \n",
      "These results could indicate that AMD s Ryzen chips are helping the company snag some share in the important x86 compatible market  another space that is currently dominated by Intel \n",
      "All of this is on top of the fact that manufacturers of graphics chips  such as AMD and rival Nvidia   NASDAQ NVDA    have reportedly been benefitting from crypto currency miners who are using the technology to pump out new bitcoins and ethereum \n",
      "Overall  the semiconductor industry remains strong  According to the Semiconductor Industry Association  global chip sales in May gained nearly 23  year over year to  31 9 million the biggest jump since September 2010 \n",
      "All of this positive news is clearly contributing to AMD s current momentum  but how high will the stock go  Can shares break higher than the 52 week peak that was reached in late February  Let s take a look at AMD s six month chart for some answers here \n",
      "As we can see  AMD has been relatively erratic this year  Shares were trading comfortably above their 25 day moving average for most of February and March  but that support was quickly breached after the company s most recent earnings report disappointed investors \n",
      "If anything  AMD s chart reveals that the stock is very susceptible to short  yet significant  upward and downward movements  In many of these cases  we can point to a specific bit of news  product launch review  or analyst note that caused the movement \n",
      "Unfortunately  this erratic behavior means that identifying any predictive trends is a bit more difficult  However  AMD is currently a Zacks Rank  2  Buy  thanks to its positive earnings estimate revision activity  which is a good indicator of strength over the next one to three months \n",
      "Furthermore  we can see that AMD s 25 day moving average recently crossed over its 100 day moving average  This is important to note because it is often considered a bullish signal when a short term moving average crosses above a longer term moving average \n",
      "So will AMD break above its 52 week high  This stock has been a tough one to call recently  but there are plenty of things to be encouraged about from both a fundamental and technical perspective  If the stock doesn t break into a new range soon  investors should have July 25 the date of AMD s next earnings release circled on their calendars  This is sure to be a major catalyst for the stock \n",
      "Want more stock market analysis from this author  Make sure to follow   on Twitter \n",
      "More Stock News  8 Companies Verge on Apple Like Run\n",
      "Did you miss Apple  NASDAQ AAPL  s 9X stock explosion after they launched their iPhone in 2007  Now 2017 looks to be a pivotal year to get in on another emerging technology expected to rock the market  Demand could soar from almost nothing to  42 billion by 2025  Reports suggest it could save 10 million lives per decade  which could in turn save  200 billion in U S  healthcare costs \n",
      "A bonus Zacks Special Report names this breakthrough and the 8 best stocks to exploit it  Like Apple in 2007  these companies are already strong and coiling for potential mega gains \n"
     ]
    },
    {
     "name": "stderr",
     "output_type": "stream",
     "text": [
      "Processing:  10%|█         | 2/20 [00:04<00:42,  2.38s/it]"
     ]
    },
    {
     "name": "stdout",
     "output_type": "stream",
     "text": [
      "Top 5 Things to Know This Morning Investing com   Here are the top five things you need to know this morning  Wednesday  October 28 \n",
      "1  Global markets mixed ahead of Fed outcome\n",
      "Asian equities were mostly lower Wednesday  as weakness in oil prices and an uninspiring overnight lead from Wall Street weighed  Japan s Nikkei 225 outperformed the region on hopes for more stimulus from the Bank of Japan \n",
      "In Europe  equity markets traded higher as investors digested quarterly earnings from Volkswagen  DE VOWG  while looking ahead to the conclusion of the Federal Reserve s policy meeting \n",
      "Meanwhile  U S  stock futures pointed to modest gains at the open  as traders focused on the outcome of Fed s policy meeting \n",
      "2  FOMC policy statement in focus\n",
      "The Fed is widely expected to hold off on raising interest rates at the conclusion of its policy meeting later in the day  The central bank releases its post meeting statement at 2 00PM ET and investors will be looking for signals on the possibility of a December rate hike \n",
      "Concerns over a global economic slowdown led by China and its impact on U S  growth prospects have prompted market participants to push back expectations for a rate increase to March 2016  though a few haven t completely ruled out a move in December \n",
      "The timing of a Fed rate hike has been a constant source of debate in the markets in recent months \n",
      "3  Volkswagen posts first quarterly loss in 15 years\n",
      "Volkswagen  DE VOWG p  posted its first quarterly loss in at least 15 years  slammed by costs related to its rigging of diesel emissions tests  and lowered its profit outlook \n",
      "The German automaker reported an operating loss of  3 48 billion for the third quarter and said it expects its 2015 operating profit to be down significantly year on year \n",
      "Despite the bad news  shares in the carmaker were up over 3  \n",
      "4  Apple shares gain after upbeat Q4 earnings\n",
      "Apple  O AAPL  reported fiscal fourth quarter earnings of  1 96 per share on sales of  51 5 billion after the closing bell on Tuesday  as strong demand in China boosted profit \n",
      "The iPhone maker expects revenue of  75 5 billion to  77 5 billion in the current quarter  Analysts had expected sales of about  77 17 billion \n",
      "Shares of the tech giant rose 1 9  in pre market trade \n",
      "5  Oil futures edge up ahead of weekly supply data\n",
      "Oil futures edged up on Wednesday  but still held near a two month low  as ongoing concerns about a global supply glut continued to dampen sentiment on the commodity \n",
      "U S  crude was last up 34 cents  or 0 79   at  43 54 a barrel while Brent tacked on 39 cents  or 0 83   to  47 20 a barrel \n",
      "The U S  Energy Information Administration will release its weekly report on oil supplies at 10 30AM ET Wednesday  The data was expected to show that crude inventories rose by 3 4 million barrels last week  After markets closed on Tuesday  the American Petroleum Institute said that crude supplies rose by 4 1 million barrels in the week ended October 23 \n"
     ]
    },
    {
     "name": "stderr",
     "output_type": "stream",
     "text": [
      "Processing:  15%|█▌        | 3/20 [00:06<00:36,  2.15s/it]"
     ]
    },
    {
     "name": "stdout",
     "output_type": "stream",
     "text": [
      "U S  tax avoidance clampdown a potential headache for Apple By Jason Lange WASHINGTON  Reuters    Apple Inc  NASDAQ AAPL  and other U S  multinationals will face new curbs on tax loopholes under a rule imposed by Washington on Thursday  part of a scramble among governments worldwide to bolster their corporate tax bases  Acting shortly after a European Union grab for billions of dollars in back taxes from Apple  the U S  Treasury said it was tightening restrictions on companies  use of foreign tax credits to reduce what they owe in U S  taxes   We are closing another tax loophole that contributes to the erosion of our tax base   Treasury Assistant Secretary for Tax Policy Mark Mazur said in a statement   The fight for multinational tax revenues escalated on Aug  30 when the EU ruled Ireland was giving improper state aid to Apple in the form of a deal for low taxes  The EU ordered Apple to pay Ireland 13 billion euros   14 6 billion  in back taxes  prompting U S  Treasury Secretary Jack Lew to express concern the EU ruling could undermine the U S  tax base  Analysts have speculated whether Apple would be able to cut its U S  tax bill by claiming foreign tax credits for its extra tax bill in Ireland   Under normal circumstances  U S  companies can reduce the taxes they owe the U S  government by the value of the tax credits they claim for taxes paid abroad on foreign profits  No U S  tax is due on those profits until they are brought into the United States  or repatriated  The new rule will prevent companies faced with back tax bills from  splitting   a strategy that allows companies to bring foreign tax credits into the United States without repatriating the income from which they were derived  Apple had no comment on Treasury s tax notice  The technology giant is not the only U S  company in the crosshairs of EU state aid investigations   Starbucks Corp   NASDAQ SBUX  has been ordered to pay up to 30 million euros   33 million  to the Dutch state  while Amazon com Inc  NASDAQ AMZN  and McDonald s Corp are under investigation by the EU s executive arm  The new rule was likely to ratchet up transatlantic tensions over corporate taxes while eliminating one more strategy U S  companies can use to cushion the blow from increasingly aggressive EU tax collection efforts  The tax notice specifically cited European Union state aid investigations as a risk to U S  revenues  \n",
      "The Treasury had no comment on whether its notice would have an impact on Apple directly  but a spokesperson said the notice applies to all companies required by a foreign government to pay additional taxes  including those hit by state aid cases \n"
     ]
    },
    {
     "name": "stderr",
     "output_type": "stream",
     "text": [
      "Processing:  20%|██        | 4/20 [00:08<00:35,  2.21s/it]"
     ]
    },
    {
     "name": "stdout",
     "output_type": "stream",
     "text": [
      "Stocks   U S  Futures Cautious as Recession Fears Hold Sway Investing com   Wall Street is set for a lower open on Monday as fears of slowing growth and a possible U S  recession lead investors to shun risk assets \n",
      "But positive economic data out of Germany and relief over political developments stateside helped to calm the nerves that triggered the S P 500 s worst day since January at the end of last week \n",
      "The blue chip Dow futures fell 12 points  or 0 1   to 25 558 5 points by 6 46 AM ET  11 46 GMT   the S P 500 futures lost 2 points  or 0 1   to 2 808 88 points  while the tech heavy Nasdaq 100 futures traded down 24 points  or 0 3   to 7 345 25 points \n",
      "Investors were still jittery after the U S  yield curve inverted on Friday for the first time since 2007  The yield on the 10 year Treasury fell below the 3 month T bill rate  an event that some analysts consider to foreshadow a recession  though that is not always the case  In normal conditions  a longer term bond should carry a higher yield than a short term one as there is a higher risk for a longer time period \n",
      "However  Rob Carnell  economist at ING  warned against reaching too quick a conclusion   We suspect that drawing a recession conclusion from such data is not warranted until the 3M 10Y yield curve is inverted by a substantial amount   Carnell said   Just inverted  as today s markets indicate  doesn t do it for me  \n",
      "Chicago Federal Reserve Bank president Charles Evans also downplayed the yield curve inversion  given his confidence in the U S  economic outlook \n",
      " Some of this is structural  having to do with lower trend growth  lower real interest rates   he said Monday at the Credit Suisse Asian Investment Conference in Hong Kong   I think  in that environment  it s probably more natural that yield curves are somewhat flatter than they have been historically  \n",
      "Former Fed chair Janet Yellen also said on Monday that the yield curve may signal the need to cut interest rates at some point  but it does not signal a recession \n",
      "In a day with no major U S  economic reports  German data helped traders breathe a sigh of relief as business confidence rebounded more than expected  posting its first improvement after six months of declines \n",
      "The yield curve also returned to its normal shape with the rate on the 3 month Treasury bill at 2 45  by 6 47 AM ET  11 47 GMT  while the benchmark 10 year note moved higher to 2 47  \n",
      "Also providing relief  Special Counsel Robert Mueller found no evidence of collusion between President Donald Trump s campaign team and Russia  and did not present enough evidence to warrant charging the president with obstruction of justice  U S  Attorney General William Barr said on Sunday \n",
      "The end to the investigation removes what some see as a distraction from pressing economic questions such as infrastructure spending or trade relations with China \n",
      "In company news  Apple  NASDAQ AAPL  is expected to lift the curtain on Monday on a secretive  years long effort to build a television and movie offering  while Boeing  NYSE BA  will brief more than 200 global airline pilots  technical leaders and regulators this week on software and training updates for its 737 MAX aircraft \n",
      "On the earnings front  Dropcar  NASDAQ DCAR   Eastman Kodak  NYSE KODK  or Winnebago Industries  NYSE WGO  were among companies scheduled to report on Monday \n",
      "Outside of bonds and equities  the U S  dollar index  which measures the greenback against six rival currencies  edged forward 0 1  to 96 12 by by 6 48 AM ET  11 48 GMT  \n",
      "In commodities  gold futures rose 0 3  to  1 322 85 a troy ounce  while crude oil traded down 0 1  at  58 98 a barrel \n",
      "  Reuters contributed to this report \n"
     ]
    },
    {
     "name": "stderr",
     "output_type": "stream",
     "text": [
      "Processing:  25%|██▌       | 5/20 [00:10<00:32,  2.15s/it]"
     ]
    },
    {
     "name": "stdout",
     "output_type": "stream",
     "text": [
      "Moving Average Crossover Alert  Integra LifeSciences Integra LifeSciences Holdings Corporation   NASDAQ IART   is looking like an interesting pick from a technical perspective  as the company is seeing favorable trends on the moving average crossover front  Recently  the 50 Day Moving Average for IART broke out above the 200 Day Simple Moving Average  suggesting a short term bullish trend This has already started to take place  as the stock has moved higher by 14 6  in the past four weeks  Plus  the company currently has a Zacks Rank  2  Buy  suggesting that now could definitely be the time for this breakout candidate More bullishness may especially be the case when investors consider what has been happening for IART on the earnings estimate revision front lately  No estimates have gone lower in the past two months  compared to 8 higher  while the consensus estimate has also moved higher too So given this move in estimates  and the positive technical factors  investors may want to watch this breakout candidate closely for more gains in the near future  You can see  More Stock News  This Is Bigger than the iPhone                    It could become the mother of all technological revolutions  Apple  NASDAQ AAPL  sold a mere 1 billion iPhones in 10 years but a new breakthrough is expected to generate more than 27 billion devices in just 3 years  creating a  1 7 trillion market Zacks has just released a Special Report that spotlights this fast emerging phenomenon and 6 tickers for taking advantage of it  If you don t buy now  you may kick yourself in 2020 \n"
     ]
    },
    {
     "name": "stderr",
     "output_type": "stream",
     "text": [
      "Processing:  30%|███       | 6/20 [00:16<00:43,  3.13s/it]"
     ]
    },
    {
     "name": "stdout",
     "output_type": "stream",
     "text": [
      "Apple  AAPL  Ramps Up AR VR Efforts  Acquires SensoMotoric Per media reports  Apple   NASDAQ AAPL   has acquired a German company  SensoMotoric Instruments  which specializes in eye tracking technology  There are no reports on the financial terms of the deal as yet SensoMotoric  headquartered in Berlin  has reportedly developed a suite of computer vision applications that find use in neuroscience  car systems  linguistics  physical training and biomechanics and augmented reality  virtual reality  AR VR   The company s eye tracking solutions have found usage in VR headsets like Facebook s   NASDAQ FB   Oculus Rift  add media reports Apple has been speculated to foray into the wearable glasses space  In November last year  Bloomberg stated that Apple was mulling over venturing into the wearable headsets space  However  the company was unlikely to initiate  mass production  as it had just ordered a small number of near eye displays for testing purposes from a supplier  Moreover  in January this year  tech blogger  Robert Scoble  citing a Carl Zeiss employee  stated that Apple is working on AR mixed reality headsets and has partnered with renowned lens maker  He was more optimistic about the retail launch as he stated that the glasses could hit stores as early as this year  As a result  snapping up of an eye tracking solutions company is completely understandable Apple Inc  Price   Apple CEO  Tim Cook has emphasized on developing the technology time and again over the last few months  Cook had mentioned the company s AR efforts for the first time at the third quarter fiscal 2016 earnings conference call  He has been quoted saying   AR can be really great  and we have been and continue to invest a lot in this  We are high on AR for the long run  We think there are great things for customers and a great commercial opportunity   As a matter of fact  he has been quoted by media reports saying not VR but AR will be  the larger of the two  probably by far  The thing is Apple has been exploring newer growth avenues to boost its top line  With so much buzz created by the AR VR and AI technologies  the company has started to focus on its development  These are fast emerging as lucrative business opportunities The market presents significant growth opportunity for Apple despite competition from Alphabet   NASDAQ GOOGL    Microsoft   NASDAQ MSFT   and Facebook  According to a recent IDC report  global revenues of the AR VR market will witness a CAGR of 198  over a period from 2015 to 2020 and will reach  143 3 billion by 2020  To ramp up its efforts  Apple has acquired several smaller firms with expertise in AR hardware  3D gaming and virtual reality software  These include Flyby Media  Emotient  TupleJump  Turi  Metaio and PrimeSense  This year  Apple Inc  a startup specializing in AI technology for reportedly  200 million In addition  at its this year  Apple announced ARKit that will help third party developers to work on creating AR experiences for its iOS platform Zacks Rank   Stock Price MovementAt present  Apple carries a Zacks Rank  3  Hold   You can see  In the past one year  shares of Apple have registered growth of 53 6  compared with the Zacks categorized industry s gain of 52 8  Today s Stocks from Zacks  Hottest Strategies It s hard to believe  even for us at Zacks  But while the market gained  18 8  from 2016   Q1 2017  our top stock picking screens have returned  157 0    128 0    97 8    94 7   and  90 2  respectively And this outperformance has not just been a recent phenomenon  Over the years it has been remarkably consistent  From 2000   Q1 2017  the composite yearly average gain for these strategies has beaten the market more than 11X over  Maybe even more remarkable is the fact that we re willing to share their latest stocks with you without cost or obligation \n"
     ]
    },
    {
     "name": "stderr",
     "output_type": "stream",
     "text": [
      "Processing:  35%|███▌      | 7/20 [00:20<00:45,  3.47s/it]"
     ]
    },
    {
     "name": "stdout",
     "output_type": "stream",
     "text": [
      "FS Investment  FSIC  Enters Oversold Territory FS Investment Corporation   NYSE FSIC   has been on a bit of a cold streak lately  but there might be light at the end of the tunnel for this overlooked stock  And for technical investors there is some hope when looking at FSIC given that  according to its RSI reading of 29 37  it is now in oversold territory What is RSI RSI stands for  Relative Strength Index  and it is a popular indicator used by technically focused investors  It compares the average of gains in days that closed up to the average of losses in days that closed down  readings above 70 suggest an asset is overbought  while an RSI below 30 suggests undervalued conditions are present Other FactorsYet  FSIC s low RSI value isn t the only reason to have some optimism over a coming turnaround  as there has been plenty of positive earnings estimate revision activity as of late  This is especially true when investors take a deep dive into some of these estimate revision stats and recent changes to FS Investment s earnings consensus Over the past two months  investors have seen 2 earnings estimate revision move higher  compared with none lower  at least when looking at the key current year time frame  And the consensus estimate for FSIC has also been on an upward trend over the past 60 days  as estimates have risen by 2 6  over the last two months If this wasn t enough  FS Investment also has a Zacks Rank  2  Buy  which puts it into rare company among its peers  So  given all of these factors  investors may want to consider getting in on this stock now  or holding on   as there are some favorable trends that could bubble up for this stock before long  You can see  More Stock News  This Is Bigger than the iPhone                   It could become the mother of all technological revolutions  Apple  NASDAQ AAPL  sold a mere 1 billion iPhones in 10 years but a new breakthrough is expected to generate more than 27 billion devices in just 3 years  creating a  1 7 trillion market Zacks has just released a Special Report that spotlights this fast emerging phenomenon and 6 tickers for taking advantage of it  If you don t buy now  you may kick yourself in 2020 \n"
     ]
    },
    {
     "name": "stderr",
     "output_type": "stream",
     "text": [
      "Processing:  40%|████      | 8/20 [00:22<00:36,  3.00s/it]"
     ]
    },
    {
     "name": "stdout",
     "output_type": "stream",
     "text": [
      "Wall St  pushed down by Fed jitters  weak China data By Sinead Carew  Reuters    U S  stocks closed down on Monday as many investors put off making big bets ahead of the Federal Reserve s policy meeting this week and others worried about weak economic data from China  Stocks are expected to stay volatile ahead of a Federal Reserve announcement scheduled for Thursday after a two day meeting at which it will decide whether or not to make its first interest rate increase since 2006   There s absolutely no conviction up or down  Everybody s waiting on the Fed  The Fed s sitting around singing that tune  Should I stay or should I go now  If I stay it will be trouble  If I go it will be double    said David Spika  global investment strategist for the GuideStone Funds  in Dallas  Texas citing lyrics from a popular song by The Clash  The Fed has said it will raise rates when it sees a sustained economic recovery with emphasis on jobs and inflation but while the jobs market has improved inflation has been held down by weak oil prices   A broad group of economists polled by Reuters last week bet on a September move by a slim margin  economists at banks that deal directly with the Fed  known as primary dealers  picked December as more likely  and traders of short term interest rate futures were giving a rate rise this week only a one in four chance  Stocks have been volatile since China devalued its currency in August  The S P 500 has had moves of at least 1 percent in more than 10 sessions since Aug  20   Because of the volatility in the market and the conflicting data points on the U S  economy  it s really difficult to get a firm handle on what the Fed s likely to do   Spika said  Trading was slow with about 5 4 billion shares changing hands on U S  exchanges  below the 8 billion daily average for the previous twenty sessions  according to Thomson Reuters data  Also weighing on stocks was data showing China s investment and factory output in August missed forecasts  raising chances China s third quarter economic growth may dip below 7 percent for the first time since the global crisis   China continues to be a concern as investors look for a bottom in regard to the country  even though the government has a lot of room to stimulate growth   said Chris Bertelsen  chief investment officer of Global Financial Private Capital in Sarasota  Florida  The Dow Jones industrial average  DJI  fell 62 13 points  or 0 38 percent  to 16 370 96  the S P 500  SPX  lost 8 02 points  or 0 41 percent  to 1 953 03 and the Nasdaq Composite  IXIC  dropped 16 58 points  or 0 34 percent  to 4 805 76  Nine of the 10 major S P sectors fell  led by the materials index   Utilities  rose 0 23 percent while the energy index  fell 0 8 percent as U S  crude oil prices settled down 1 4 percent  Apple  O AAPL  shares ended up 0 96 percent at  115 31 after it said iPhone pre orders were on track to beat last year s first weekend record  NYSE decliners outnumbered advancers 2 044 to 971  for a 2 11 to 1 ratio  on the Nasdaq  1 709 issues fell and 1 068 advanced for a 1 60 to 1 ratio  The S P 500 posted 2 new 52 week highs and 6 lows  the Nasdaq recorded 42 new highs and 72 lows   \n",
      " This story has been refiled to correct to  I  from  it  in paragraph 3 \n"
     ]
    },
    {
     "name": "stderr",
     "output_type": "stream",
     "text": [
      "Processing:  45%|████▌     | 9/20 [00:24<00:29,  2.65s/it]"
     ]
    },
    {
     "name": "stdout",
     "output_type": "stream",
     "text": [
      "AVEO Oncology Plunges On Delay In Filing Fotivda NDA With FDA AVEO Oncology   NASDAQ AVEO   received a major setback as it had to delay its submission of a new drug application   NDA   seeking approval for its kidney cancer drug  Fotivda  tivozanib   The company decided not to submit a NDA in the United States after the FDA informed the company that it was not satisfied with the preliminary overall survival   OS   data reported along with the topline TIVO 3 study data on progression free survival in November 2018 Shares of AVEO plunged 60 5  following the unfavorable news on Jan 31  The company s shares have declined 66 5  in the past six months compared with the  s decline of 15 3  The phase III TIVO 3 study is evaluating Fotivda in highly refractory advanced or metastatic renal cell carcinoma   RCC   patients compared to Bayer  DE BAYGN  AG s   OTC BAYRY   Nexavar  sorafenib  The FDA informed the company that the preliminary OS data was not sufficient to alleviate the concerns related to potential detriment in OS raised in the complete response issued earlier in 2013 for similar application  The FDA s recommendation indicates that it required additional data for approving the drug Previously  the company intended to submit the NDA in the first half of 2019  The company did not provide an update on timeline for submission and stated that a filling will follow the availability of more mature OS results Earlier  AVEO had planned a final analysis of OS in August 2019  However  a longer than expected median OS and discussion with the FDA led the company to designate the analysis in August as interim  Data from this interim analysis will be available in the fourth quarter of 2019 Moreover  the company stated that a group of patients were not included during preliminary OS analysis in November  However  including data from the group increased the hazard ratio or failure rate for OS analysis for the candidate by more than 5  We remind investors that Fotivda is approved for first line treatment of advanced RCC in Europe  Moreover  AVEO is developing the candidate in combination with Bristol Myers    NYSE BMY   Opdivo for treating advanced RCC AVEO Pharmaceuticals  Inc  Price    Zacks Rank   Stock to ConsiderAVEO carries a Zacks Rank  3  Hold   Galectin Therapeutics Inc    NASDAQ GALT   is a better ranked stock in the healthcare space  sporting a Zacks Rank  1  Strong Buy   You can see  Galectin s loss estimates have narrowed from 44 cents to 38 cents for 2018 and from  1 12 to 98 cents for 2019 over the past 60 days  The company delivered a positive earnings surprise in all the last four quarters  with the average beat being 18 65   Share price of the company has risen 24  in the past year More Stock News  This Is Bigger than the iPhone It could become the mother of all technological revolutions  Apple  NASDAQ AAPL  sold a mere 1 billion iPhones in 10 years but a new breakthrough is expected to generate more than 27 billion devices in just 3 years  creating a  1 7 trillion market Zacks has just released a Special Report that spotlights this fast emerging phenomenon and 6 tickers for taking advantage of it  If you don t buy now  you may kick yourself in 2020 \n"
     ]
    },
    {
     "name": "stderr",
     "output_type": "stream",
     "text": [
      "Processing:  50%|█████     | 10/20 [00:25<00:22,  2.23s/it]"
     ]
    },
    {
     "name": "stdout",
     "output_type": "stream",
     "text": [
      "Decker Brands  Lear  Alphabet  Tesla And Baidu Highlighted As Zacks Bull And Bear Of The Day For Immediate ReleaseChicago  IL   August 30  2019    Shares of Decker Brands   NYSE DECK   as the Bull of the Day  Lear Corporation   NYSE LEA   as the Bear of the Day  In addition  Zacks Equity Research provides analysis on Alphabet   NASDAQ GOOGL    Tesla   NASDAQ TSLA   and Baidu   NASDAQ BIDU   Here is a synopsis of all five stocks   Decker Brands is proving its not just about UGGs anymore  This Zacks Rank  1  Strong Buy  is hitting on all cylinders as it recently raised full year guidance Deckers Brands designs  manufactures and distributes footwear  apparel and accessories  It s most prominent brand is UGG  but it also owns Koolaburra  HOKA ONE ONE  Teva and Sanuk It s products are sold around the world in department and specialty stores as well as company owned and operated retail stores  Deckers also operates an online store at  Another Beat in the Fiscal First QuarterOn July 25  Deckers reported fiscal first quarter 2020 results and again blew by the Zacks Consensus Estimate  this time by 41 7  Earnings were a loss of  0 67 versus the consensus of a loss of  1 15 It was the tenth earnings beat in a row which is an impressive streak given the struggles of some retailers In the quarter  sales jumped 10 5  to  276 8 million versus  250 6 million in the year ago period UGG remains its largest brand as sales rose 1 5  to  138 5 million  up from  136 5 million a year ago But HOKA ONE ONE continues to be on fire as sales jumped 69 2  to  79 5 million from  47 million a year ago Teva and Sanuk both saw year over year sales declines of 4 3  and 23 5   respectively  Sanuk sales fell to  18 7 million from  24 4 million Wholesale sales were also up 10 7  to  196 6 million from  177 6 million a year ago Deckers Raised Full Year GuidanceEven though it only gave full year guidance for the first time last quarter  Deckers is already raising it based on the strong first quarter results The sales forecast was raised to  2 1 billion to  2 125 billion from  2 095 billion to  2 120 billion Earnings are expected to be in the range of  8 40 to  8 60  up from prior guidance of  8 20 to  8 40 5 analysts raised their estimates after the report  pushing the Zacks Consensus up to  8 65 from  8 45  That s higher than the company s guidance range but it still means an earnings decline of 2 2  from a year ago as it made  8 84 last year Fiscal 2021 is looking upbeat as well  with 4 analysts raising and pushing the Zacks Consensus up to  9 47 from  9 28  or an earnings gain of 9 5    Lear Corporation is facing the global slowdown in the auto industry  This Zacks Rank  5  Strong Sell  recently cut its full year guidance Lear makes seating and electrical and electronic systems for every major automaker in the world  It is headquartered in Michigan and has employees in 39 countries A Miss in the Second QuarterOn July 26  Lear reported its second quarter 2019 results and missed on the Zacks Consensus by 4 cents Earnings were  3 78 versus the Zacks Consensus of  3 82 Sales fell 10  to  5 billion from  5 6 billion in the year ago quarter  Excluding the impact of foreign exchange and the Xevo acquisition  sales were down 6 7  In the second quarter  global vehicle production was down more than 7  compared to 2018 with China falling 17  and Europe declining 7  Lear s results are going to be impacted by the global trends Lear Cuts GuidanceLear didn t mince words in July  It said it was facing a challenging macroeconomic and industry environment which does not look like it will end soon It cut its full year sales guidance to a range of  19 8 billion to  20 3 billion from its prior forecast of  20 9 billion to  21 7 billion Analysts also cut their 2019 and 2020 full year earnings estimates 9 estimates were cut in the last 60 days for 2019 pushing the Zacks Consensus down to  14 98 from  17 45 just 2 months ago That s an earnings decline of 17 8  as Lear made  18 22 in 2018 9 estimates were also cut in the last 60 days for 2020 pushing the Zacks Consensus down to  15 88 from  18 97  Analysts see a little bit of growth moving forward as that s earnings growth of 6  Shares SinkIt s been tough to be a shareholder over the last year as they have sunk 34 5  But they now trade with a forward P E of only 7 And the company is shareholder friendly with a dividend yielding 2 8  as well as a share buyback program which began in early 2011 In the second quarter  the company repurchased  162 million and still has  1 3 billion remaining in the program which goes through Dec 31  2021  It will reflect 16  of its total market capitalization at current prices Additional content Is China a Threat to U S  Autonomous Vehicle Dominance The buzz around autonomous vehicles is continuing to snowball as global tech majors are upping their game to take advantage of the burgeoning prospects Per an Allied Market Research   the global autonomous vehicle market is expected to reach  556 67 billion by 2026 at a CAGR of 39 47  from 2019 to 2026 The long term prospects are much more alluring  Per a McKinsey autonomous vehicles are expected to contribute about 66  of the passenger kilometers traveled in 2040  generating  1 1 trillion in mobility services revenues and  0 9 trillion in sales that year U S  Leading the RaceThe United States is leveraging its first mover advantage in the autonomous vehicle market  Notably  California opened its public roads for testing driverless vehicles way back in 2014  This enabled U S  developers like Alphabet division Waymo to test millions of miles in the state alone Major companies like Tesla have taken several initiatives  including partnering with global automakers to strengthen their footprint in the market In June this year  Apple  NASDAQ AAPL  acquired a self driving shuttle firm  Drive ai  to boost its expertise in neural networks  which play an important role in developing software for driverless vehicles Moreover  Tesla s current fleet of vehicles now represents partial automation  which the company aims to fully convert into self driving platforms Per Modor Intelligence  the U S  autonomous car is expected to witness a CAGR of about 46 39  between 2019 and 2024 China  A Potential Challenger Chinese developers like Baidu are catching up fast with their U S  counterparts  Baidu is the leading tester in China  having covered about 87 000 miles in testing in Beijing last year  However  this is considerably less than a typical month for Waymo China s policymakers believe that the autonomous vehicles industry is crucial for the country to be successful in its strategy to transform into an AI led economy by 2030  The government is targeting large scale adoption of early stage vehicles in 2020  and expects 10  of all new vehicles sold by 2030 to be fully autonomous Earlier this month  it was that China is testing autonomous vehicles in a dedicated highway in east Shandong   Recently  Chinese autonomous driving company Pony ai partnered with Toyota to expedite the development and deployment of self driving vehicles  The pilot cars are likely to start operating on public roads in Beijing and Shanghai in September 2019  leveraging Pony ai s autonomous driving system in Lexus RX vehicles ConclusionThe competition for dominating the autonomous vehicle market is set to heat up between the U S  and China based companies in the backdrop of the trade war However  China needs to optimize autonomous vehicle decision algorithms to suit its complex and chaotic traffic environment  This could delay the adoption of Chinese autonomous cars by two to three years compared to the United States  The first applications of autonomous vehicles in complex traffic might begin in the next five years  but mass adoption is expected to occur only after 2027 Nevertheless  China s efforts in the autonomous vehicles market pose serious threat to the United States  dominance Notably  in a KPMG index to measure the level of preparedness for autonomous vehicles  China currently holds the 20th position among 25 countries  whereas the United States ranks fourth Alphabet currently carries a Zacks Rank  2  Buy   You can see  While Apple  Baidu and Toyota carry a Zacks Rank  3  Hold   Tesla carries a Zacks Rank  4  Sell  Breakout Biotech Stocks with Triple Digit Profit PotentialThe biotech sector is projected to surge beyond  775 billion by 2024 as scientists develop treatments for thousands of diseases  They re also finding ways to edit the human genome to literally erase our vulnerability to these diseases Zacks has just released Century of Biology  7 Biotech Stocks to Buy Right Now to help investors profit from 7 stocks poised for outperformance  Our recent biotech recommendations have produced gains of  98    119  and  164  in as little as 1 month  The stocks in this report could perform even better Media ContactZacks Investment Research800 767 3771 ext  9339  Zacks com provides investment resources and informs you of these resources  which you may choose to use in making your own investment decisions  Zacks is providing information on this resource to you subject to the Zacks  Terms and Conditions of Service  disclaimer   Past performance is no guarantee of future results  Inherent in any investment is the potential for loss  This material is being provided for informational purposes only and nothing herein constitutes investment  legal  accounting or tax advice  or a recommendation to buy  sell or hold a security  No recommendation or advice is being given as to whether any investment is suitable for a particular investor  It should not be assumed that any investments in securities  companies  sectors or markets identified and described were or will be profitable  All information is current as of the date of herein and is subject to change without notice  Any views or opinions expressed may not reflect those of the firm as a whole  Zacks Investment Research does not engage in investment banking  market making or asset management activities of any securities  These returns are from hypothetical portfolios consisting of stocks with Zacks Rank   1 that were rebalanced monthly with zero transaction costs  These are not the returns of actual portfolios of stocks  The S P 500 is an unmanaged index  Visit  for information about the performance numbers displayed in this press release \n"
     ]
    },
    {
     "name": "stderr",
     "output_type": "stream",
     "text": [
      "Processing:  55%|█████▌    | 11/20 [00:28<00:21,  2.43s/it]"
     ]
    },
    {
     "name": "stdout",
     "output_type": "stream",
     "text": [
      "S P 500 ends at record high as dollar loses ground By Noel Randewich  Reuters    U S  stocks ended sharply stronger on Thursday and the S P 500 closed at a record high as investors worried less about interest rates and a weaker dollar offered the possibility of stronger sales for U S  multinationals  The S P 500  SPX  gained 22 62 points  or 1 08 percent  to end at 2 121 1  exceeding its previous all time high close of 2 117 69 on April 24  The Nasdaq Composite had its strongest day since January  After oscillating in what many investors view as a range for much of the past three months  the S P s gain in 2015 now stands at 3 percent   The dollar moved to its lowest since January against a basket of currencies of major U S  trading partners   good news for companies that have large foreign sales  A report showing a dip in initial claims for state unemployment benefits last week did little to change broad expectations that the U S  Federal Reserve would not increase interest rates before the second half of 2015 at the earliest   There s a 50 50 chance they re not going to raise rates this year  so why are we spending two years discussing this  Let s focus on the fact that the economy is doing okay   said Steve Goldman  principal of Goldman Management in Short Hills  New Jersey   The path of least resistance is higher   Wall Street s top banks expect the Federal Reserve to begin raising interest rates in September  according to a Reuters poll last week  The Dow Jones industrial average  DJI  rose 191 75 points  or 1 06 percent  to end at 18 252 24  The Nasdaq Composite  IXIC  added 69 10 points  or 1 39 percent  to 5 050 80  All of the 10 major S P 500 sectors were higher  with the tech index s  1 73 percent rise leading the way  Apple  O AAPL  shares rose 2 33 percent  making the stock the biggest driver on both the Nasdaq and S P 500  Apple s quarterly dividend  which many shareholders reinvest  was payable on Thursday   Avon Products   N AVP  briefly jumped as much as 27 4 percent after a regulatory filing from a firm said it had offered to buy the cosmetics company for nearly three times its market value  Avon said it had not received an offer  Shake Shack  N SHAK  fell 4 18 percent to  65 50 after the hamburger chain reported a surprise adjusted quarterly profit  The stock debuted in January at a listing price of  21  The S P 500 posted 31 new 52 week highs and 5 new lows  the Nasdaq Composite recorded 101 new highs and 29 new lows   Advancing issues outnumbered declining ones on the NYSE by 2 339 to 744  for a 3 14 to 1 ratio  on the Nasdaq  1 909 issues rose and 861 fell  for a 2 22 to 1 ratio favoring advancers   When you get those kinds of advance decline numbers  that means there s a lot of buying  That s what impresses me on days like today   said Frank Gretz  a technical analyst at Wellington Shields   Co  a brokerage in New York   A day like today clears the air to the upside   \n",
      "About 6 0 billion shares changed hands on U S  exchanges  below the 6 3 billion average for the last five sessions  according to BATS Global Markets \n"
     ]
    },
    {
     "name": "stderr",
     "output_type": "stream",
     "text": [
      "Processing:  60%|██████    | 12/20 [00:30<00:18,  2.34s/it]"
     ]
    },
    {
     "name": "stdout",
     "output_type": "stream",
     "text": [
      "Verizon throws in Apple Music to its top unlimited plans Verizon  NYSE VZ  is expanding a partnership with Apple Music  NASDAQ AAPL   offering the streaming service as a built in inclusion in its Beyond Unlimited and Above Unlimited plans  Since last summer the carrier has been promoting an inclusion of six months of Apple Music for subscribers  That six months free offer will still be good for those choosing Go Unlimited plans  The price goes to  9 99 month for those subscribers after that  Now read \n"
     ]
    },
    {
     "name": "stderr",
     "output_type": "stream",
     "text": [
      "Processing:  65%|██████▌   | 13/20 [00:32<00:15,  2.24s/it]"
     ]
    },
    {
     "name": "stdout",
     "output_type": "stream",
     "text": [
      "Exclusive  Fitbit considers whether it should explore a sale   sources By Greg Roumeliotis  Reuters    Wearable device maker  Fitbit Inc   N FIT  has been in talks with an investment bank about the possibility of exploring a sale amid challenges in successfully pivoting from fitness trackers to smartwatches  people familiar with the matter said on Friday  Fitbit has struggled to gain a foothold in the smartwatch category  as Apple Inc  O AAPL  and Samsung Electronics Co  KS 005930  have cornered a bigger share of the market with more sophisticated devices   At the same time  Fitbit s dominant share of the fitness tracking sector continues to be chipped away by cheaper offerings from companies such as China s Huawei Technologies Co Ltd and  Xiaomi  Corp  HK 1810   Fitbit has held discussions with investment bank Qatalyst Partners about whether it should engage with potential acquirers  the sources said   Fitbit has not yet decided to pursue a sale and there is no certainty it will do so  the sources said  Qatalyst has been seeking to persuade Fitbit to explore its options for several weeks  arguing it could attract acquisition interest from Google owner Alphabet Inc  O GOOGL  as well as private equity firms  one of the sources added  The sources asked not to be identified because the matter is confidential  Fitbit and Alphabet said that it is their policy not to comment on rumors and speculation  Qatalyst did not respond to a request for comment  Fitbit shares rose 22  to  4 48 on the news  giving the company a market capitalization of more than  1 1 billion  Fitbit cut its 2019 revenue forecast in July  blaming disappointing sales of its newly launched cheapest smartwatch Versa Lite  The watch is priced at  160  compared with the  200 the full version sells for  It can track workouts and heart rate  but lack features such as the ability to store music directly  Fitbit s fitness trackers monitor users  daily steps  calories burned and distance traveled  They also measure floors climbed  sleep duration and quality  and heart rate  Fitbit  which helped pioneer the wearable devices craze  has been partnering with health insurers and has been making tuck in acquisitions in the healthcare market  as part of efforts to diversify its revenue stream  In August  Fitbit said it had signed a contract with the Singapore government to provide fitness trackers and services in a health program it said could reach up to 1 million users  \n",
      "Fitbit in August also launched its latest smartwatch  Versa 2  adding Amazon com Inc s  O AMZN  voice assistant Alexa  online payments and music storage to the device s capabilities \n"
     ]
    },
    {
     "name": "stderr",
     "output_type": "stream",
     "text": [
      "Processing:  70%|███████   | 14/20 [00:35<00:14,  2.36s/it]"
     ]
    },
    {
     "name": "stdout",
     "output_type": "stream",
     "text": [
      "iFOREX Daily Analysis   September 20  2016 The dollar lost ground against most major currencies on Monday  as investors are more cautious ahead of the Federal Reserve and the Bank of Japan s highly anticipated policy meetings this week  On Tuesday investors appear to remain on the side lines  ahead of this week s policy meetings of the Bank of Japan and Federal Reserve  with markets expecting that the Japanese central bank will make crucial changes to its easing program  BOJ officials have suggested in recent weeks that there is room to cut interest rates further and there is talk the BOJ could make negative interest rates the primary focus of its monetary policy at this week s review  Even so  currency traders appear uncertain as to whether this step would help to reverse the yen s rising trend this year  For the Fed  the overall consensus is to leave rates unchanged  however  investors are anticipating clearer hints on the timing of the next rate hike  The commodity currencies were supported by comments from Venezuelan officials who said that OPEC and non OPEC producers were close to reaching a deal to curb production  Today  the U S  is to report on building permits and housing starts while Bank of Canada Governor Stephen Poloz is to speak at an event in Quebec \n",
      "USD JPY\n",
      "The dollar extended losses against most major currencies on Monday  as investors appear cautious ahead of the upcoming Federal Reserve and Bank of Japan policy meetings this week  The dollar fell against the yen by approximately 0 4 percent compared to last week though it remained in its trading range of the past weeks between 101 20 and 103 35  No changes are expected from the Fed s upcoming policy meeting  however  BOJ officials have suggested in recent weeks that there is room to cut interest rates further despite criticism that they are hurting financial institutions and even damaging economic sentiment  For today  the U S  is to report on building permits and housing starts \n",
      "Pivot  102 15Support  101 45 101 15 100 9Resistance  102 15 102 45 102 75Scenario 1  short   101 80 with targets   101 45   101 15 in extension Scenario 2  above 102 15 look for further upside with 102 45   102 75 as targets Comment  The pair has validated a bearish flag \n",
      "Gold\n",
      "Gold prices recovered from two week lows on Monday  as the U S  dollar fell amid expectations of no rate change from the Federal Reserve this week  Even though no change is expected in the Fed s monetary policy this week  investors will be anticipating Fed Chair Janet Yellen s press conference 30 minutes after the Fed s statement  for any hints on the timing of future rate hikes  Markets are currently pricing in just a 12  chance of a rate hike this week  according to the Fed Rate Monitor Tool  For today  the U S  is to report on building permits and housing starts \n",
      "Pivot  1309Support  1309 1305 75 1302Resistance  1321 5 1326 1332Scenario 1  long positions above 1309 00 with targets   1321 50   1326 00 in extension Scenario 2  below 1309 00 look for further downside with 1305 75   1302 00 as targets Comment  the RSI broke above a bearish trend line \n",
      "WTI Oil\n",
      "Oil prices gained almost 1 percent early on Monday after Venezuela hinted that OPEC members and other major oil producers could reach a deal to curb production in order to support prices  however the price of the fuel dropped eventually to end the day in negative territory as bearish sentiment triggered some profit taking from long positions  Recent weakness in the dollar also failed to support the dollar denominated commodity  Oil producers are due to meet in an industry conference in Algeria next week for talks on potentially freezing oil production  ahead of OPEC s important policy meeting in November  Later today  the market focus will be shifted towards the crude oil inventories report stocks from the American Petroleum Institute \n",
      "Pivot  44 1Support  42 7 42 41 2Resistance  44 1 44 76 45 5Scenario 1  short positions below 44 10 with targets   42 70   42 00 in extension Scenario 2  above 44 10 look for further upside with 44 76   45 50 as targets Comment  the RSI calls for a drop \n",
      "US 500\n",
      "The main U S  stock indices moved lower on Monday  as losses in the Telecoms  Healthcare and Consumer Services sectors drove prices lower  Apple shares  NASDAQ AAPL  fell by 1 2 percent after registering huge gains last week  but the drop was slightly offset by gains in big bank stocks  The Dow Jones industrial average fell 0 02 percent the S P 500 lost 0 04 points and the Nasdaq dropped 0 18 percent  The Fed is expected to leave interest rates unchanged at the two day meeting  but investors will assess Chair Janet Yellen s speech on Wednesday to see if the central bank plans to hike as soon as December  Traders are now focusing on the central bank monetary policy meeting outcome on Wednesday and they are betting that there is only a 12 percent chance the Fed will raise interest rates this week  but see a 55 percent chance the central bank will do so in December  according to the CME s FedWatch website \n",
      "    Pivot  2108  Support  2108 2100 2085  Resistance  2155 2169 2182    Scenario 1  long positions above 2108 00 with targets   2155 00   2169 00 in extension   Scenario 2  below 2108 00 look for further downside with 2100 00   2085 00 as targets   Comment  the RSI is mixed with a bullish bias \n"
     ]
    },
    {
     "name": "stderr",
     "output_type": "stream",
     "text": [
      "Processing:  75%|███████▌  | 15/20 [00:36<00:10,  2.19s/it]"
     ]
    },
    {
     "name": "stdout",
     "output_type": "stream",
     "text": [
      "5 Tech Stocks With Impressive P S Ratios To Buy Now The current bull market has come at a time when the traditions of Wall Street have changed significantly  Some of these changes  like the transition from on the floor traders to algorithm based digital trading  are a simple result of evolving technology  Others  such as a shift in our preferred methods for determining value and growth potential  have been a bit more contentious \n",
      "Indeed  one of the most polarizing new trends on the stock market relates to the use of traditional valuation metrics or the lack of use  I should say  For better or worse  investors are quick to disregard old school methods in favor of heavy optimism about the future \n",
      "This manifests itself the most in the technology sector  and it s the reason that Tesla  NASDAQ TSLA  and Amazon  NASDAQ AMZN  continue to be two of the year s hottest stocks despite sporting  F  grades for Value in our Style Scores system \n",
      "But at least one traditional valuation metric continues to be a favorite in today s tech sector  the Price Sales ratio  The P S ratio is a measurement of a company s stock price against its annual revenues  and many investors prefer it as a valuation metric because it disregards management manipulation  accounting estimates  and other variables that go into earnings results \n",
      "What s more  the P S ratio is a favorite among tech investors because the sector presents unique challenges  like high startup costs and cyclical consumer trends  which can sometimes make earnings related metrics a less accurate gauge of company performance \n",
      "With all of this said  a stock with an impressive P S ratio and a strong Zacks Rank might just be the perfect combination in today s tech world  Check out these five below \n",
      "1        Fitbit    NYSE FIT   \n",
      "Wearable tech giant Fitbit currently sports a P S ratio of 0 78  which bests the  Electronics   Measuring Instruments  industry average of 1 62  Unfortunately  Fitbit s better than average P S figure has come as a result of slumping share prices  not strong sales growth \n",
      "Still  the stock has a Zacks Rank  2  Buy   and the company has recently undergone executive shakeup and cost structuring initiatives that have been received well  On top of this  its new Ionic device is its first foray into the smartwatch market and should prove to be a legitimate Apple  NASDAQ AAPL  Watch competitor this holiday season \n",
      " \n",
      "2        IntriCon Corporation    NASDAQ IIN   \n",
      "IntriCon designs  develops  engineers and manufactures microminiaturized medical and electronic products  The company is currently maintaining a P S ratio of 1 03  which is better than the average of 1 45 posted by its  Electronics   Miscellaneous Components  industry peers \n",
      "In addition to its strong P S ratio  IntriCon has a Zacks Rank  1  Strong Buy   Shares of the company have already surged more than 65  year to date  but the stock could continue to rise if continues to attract investors \n",
      " \n",
      "3        Ultra Clean Holdings    NASDAQ UCTT   \n",
      "Ultra Clean is a provider of gas and chemical delivery solutions for the semiconductor manufacturing industry  and with shares up over 167  this year  it has emerged as one of the best performing stocks in this space  This is primarily because of Ultra Clean s strong growth metrics  but the company s P S ratio implies it could still be undervalued \n",
      "Indeed  Ultra Clean is currently sporting a P S ratio of 1 16  which is better than the 2 12 average of its  Electronics   Manufacturing Machinery  industry  In addition  the company currently has a Zacks Rank  1  Strong Buy  and an overall VGM grade of  A  \n",
      " \n",
      "4        Zagg Inc     NASDAQ ZAGG   \n",
      "Best known for its invisibleSHIELD brand  Zagg is a designer of protective cases for consumer electronics  Currently  the company has a P S ratio of 0 87  which edges out its  Electronics   Miscellaneous Components  industry average of 1 45 \n",
      "Furthermore  Zagg is a Zacks Rank  2  Buy  and presents an interesting growth story  According to our current consensus estimates  the company is expected to report full year EPS growth of 184  and revenue growth of 22   This sales growth also works to show that investors might still be undervaluing the stock \n",
      " \n",
      "5        Amtech Systems    NASDAQ ASYS   \n",
      "Amtech Systems is a provider of reliable silicon wafer handling  processing equipment and related consumables to the semiconductor industry  The company currently has a P S ratio of 1 10  which is better than the average of 2 26 posted by its  Semiconductor   General  industry peers \n",
      "Interestingly  this industry is also in the top 1  of the Zacks Industry Rank  and with a Zacks Rank  1  Strong Buy   ASYS is sitting at the top of this group  The stock also has a  B  grade for Growth and has soared more than 120  over the past year \n",
      " \n",
      "Want more stock market analysis from this author  Make sure to follow   on Twitter \n",
      "New Report  An Investor s Guide to Cybersecurity \n",
      "Cyberattacks have become more frequent and destructive than ever  In fact  they re expected to cause  6 trillion per year in damage by 2020  The cybersecurity industry is expanding quickly in response to these threats  and a projected  170 billion per year will be spent to protect consumer and corporate assets \n",
      "Zacks has just released Cybersecurity  An Investor s Guide to Locking Down Profits  which reveals 4 promising investment candidates to benefit from this growing market \n"
     ]
    },
    {
     "name": "stderr",
     "output_type": "stream",
     "text": [
      "Processing:  80%|████████  | 16/20 [00:37<00:06,  1.63s/it]"
     ]
    },
    {
     "name": "stdout",
     "output_type": "stream",
     "text": [
      "Error processing row (title: 5 Tech Stocks With Impressive P S Ratios To Buy Now): No valid choices in API response.\n",
      "EU threatens tax changes for digital companies The European Commission says it will propose new taxes on digital companies like Alphabet  GOOG  GOOGL  and Facebook  NASDAQ FB  by next spring if international tax rewrites don t occur                The Commission says the companies declare little profit in the region to avoid paying taxes                 If international progress isn t made  the Commission will proceed with one of its own tax plans  which include amending the common consolidated corporate tax base to redefine how profits are taxed                Another option is an  equalization tax  that applies to digital revenue rather than profit and has earned widespread support throughout the EU     Previously  Apple  NASDAQ AAPL   Ireland close to reaching agreement on tax escrow  Aug  11 Now read \n"
     ]
    },
    {
     "name": "stderr",
     "output_type": "stream",
     "text": [
      "Processing:  85%|████████▌ | 17/20 [00:37<00:03,  1.24s/it]"
     ]
    },
    {
     "name": "stdout",
     "output_type": "stream",
     "text": [
      "Error processing row (title: EU threatens tax changes for digital companies): No valid choices in API response.\n",
      "China goes on tech hiring binge and wages soar  closing gap with Silicon Valley By Stella Qiu and Elias Glenn BEIJING  Reuters    China s war for technology talent is intensifying  Tens of thousands of people are being hired to shore up cybersecurity  help censor online content  and try to make China No 1 in the application of artificial intelligence  AI   as capital pours into both start ups and more mature businesses at a time when the government is demanding rapid development    Companies are well funded and are in serious competition for talent   said Thomas Liang  a former executive at Chinese search giant Baidu  O BIDU  who is now running an AI focused fund  He said that startups in hot sectors like AI often have to offer 50 100 percent pay raises to attract employees away from established technology firms   China s emergence as a global center for technology  with champions such as  Alibaba   N BABA  and Tencent  HK 0700  now worth more than a trillion dollars combined  has led to a hiring boom and wage growth that starts to puts salaries for the top talent within striking distance of those offered in Silicon Valley  And while that should please the Chinese government as it seeks to create higher paying jobs and move up the value chain  it could also add to income inequality in China as wages in non tech jobs lag  and as the sector s recruitment and income gains tend to be concentrated in the biggest cities such as Beijing and Shenzhen  Technology is certainly a major driver of growth in China  Output in China s information technology and software sector expanded by 33 8 percent year on year in the fourth quarter  compared with 29 percent growth in the third quarter  according to data from the statistics bureau  In China  top graduates working on AI can command salaries of 300 000 yuan   47 066  to 600 000 yuan   94 132  a year  according to tech recruitment website 100offer com  while team leaders with three to five years of experience can make more than 1 5 million yuan   235 33100  annually  Many of these jobs are in Beijing or Shenzhen  Liang estimates salaries in the industry have roughly doubled since 2014  By comparison  an AI researcher in San Francisco makes an average of  112 659 a year  and a machine learning engineer in the same city an average  150 815  according to job search site Indeed com  For Chinese software engineers who have studied in the U S  but now worry about the impact of U S  President Donald Trump s immigration policies on their chances of retaining visas  returning home is becoming more appealing  Chinese tech firms say they actively recruit Chinese students from U S  colleges  and many have opened offices in Silicon Valley to attract top talent  The boom in AI work is prompting some engineers to retrain in China    I doubled my salary by making the AI jump   said Song  a 26 year old AI engineer in Beijing who now makes around  55 000 per year after taking AI training courses in his own time  And as a 26 year old artificial intelligence engineer working for Beijing Bytedance Technology Co  maker of the Chinese news aggregator app Toutiao  George is pulling down an annual salary of around  60 000 but says he may jump ship if something better comes along   Both Song and George asked that their full names not be used   The money is still pouring in  More than  65 billion of venture capital investments were made in Greater China last year  up 35 percent from a year earlier  according to research firm Preqin  an all time high and second only to North America  with  77 billion   Chinese President Xi Jinping said at the Communist Party Congress held last year that China will push for the integration of the internet  big data and AI with the traditional economy   This is all part of a government drive to move the Chinese economy up the value chain with a particular emphasis on areas such as information technology  robotics and energy saving vehicles   The government is also behind a massive push to use facial recognition and other technologies to track people on a national scale   the authorities say that it will improve security and reduce crime  while human rights advocates claim it is part of a giant surveillance state and will be used against activists and dissidents   Among the fastest growing tech companies is Beijing based AI startup Cloudminds  It plans to expand headcount by almost 40 percent this year from its current 400 staffers  human resources director Arina Li told Reuters   The tech boom has spilled over to inland cities with Alibaba setting up a regional headquarters in Xian in the northwest while American tech giants like Apple  O AAPL  and Qualcomm  O QCOM  have invested heavily in Guizhou province in the southwest   SALARIES RISING  The technology hiring and wage rises are starting to show up in the wider economy  After stagnating for several years  disposable income growth in China accelerated to 7 3 percent last year  according to official data published last week   But the gains are much greater for those in the country s burgeoning tech hubs   Beijing  Shenzhen  Shanghai and Hangzhou   where the disparity with average salaries mirrors trends seen in San Francisco   But it s not all roses in China s labor market as high paying tech jobs are only available to a tiny slice of the overall workforce  and even official surveys show declining employment in both the manufacturing and services industries   The high salaries in the tech industry far outpace typical income levels in China  where average per capita disposable income was just 25 974 yuan   4 058 44  last year  China s statistics bureau said last week    Don t forget that in 2018   China  is going to have 8 2 million fresh university graduates  Those guys need a job  So from my point of view the pressure to create enough jobs is still there   said Qu Hongbin  Greater China Chief Economist at HSBC in Hong Kong \n"
     ]
    },
    {
     "name": "stderr",
     "output_type": "stream",
     "text": [
      "Processing:  90%|█████████ | 18/20 [00:39<00:02,  1.39s/it]"
     ]
    },
    {
     "name": "stdout",
     "output_type": "stream",
     "text": [
      "Market Update   26 07 2016 Currencies\n",
      "EUR USD   moved up after the better than expected data out of Germany  but was held back by the resistance around the 1 10 level  We can see there is another attempt to break through this resistance level at the moment \n",
      "USD JPY   is seeing another large drop as there are reports that the stimulus that the Japanese government is planning to announce will fall short on expectation  as it will be less than what was reported last week  \n",
      "GBP USD    is seeing less and less volatility and appears to be trading in a range between the 1 305 and 1 3 level at the moment  However  we can expect this to change soon as we will be waiting for the GDP data out of the UK tomorrow and the FOMC statement  It remains to be seen how much upside there is at the moment  as we are expecting a rate cut and likely further measures next month by the BOE  The likelihood for this has significantly increased as only last week MPC Waele said that it was not certain he would support measures such as a cut in interest rate  but after seeing the PMI data on Friday  he now says he supports immediate measures by the BOE \n",
      "USD CAD   has continued to move further up as oil keeps on dropping  We are now approaching the next resistance just below the 1 33 level  to reach the highest level since March \n",
      "Indices\n",
      "S P 500   dropped slightly yesterday  but is pretty much unchanged from yesterday  A lot will depend on the earnings and the FOMC statement tomorrow  Usually we see that oil energy prices have an effect on the S P  but this has not really been the case lately \n",
      "\n",
      "Commodities\n",
      "Gold   has dropped again  but so far is able to remain above the 1310 level as we will wait to see what the FOMC statement will hold and if they will signal that an interest rate increase is a good possibility in September  While there is obviously the possibility that the FED might increase the interest rate this year  but we should not forget there is also still a lot of possible upside with enough risk in the markets  mainly due to the Brexit vote \n",
      "Oil   reached the lowest level since April amid a continuing drop of oil prices  It is trading near the support around the 43 25 level at the moment  and when that will be broken  the next support will be the psychological 40 level and then only around the 38 level  There is also some expectation that we will see higher than expected inventories this week which should cause oil to drop further  especially if this is in combination with yet another rise in production  The sentiment itself has also changed  and while there were many that said that the worst is behind us and we are headed for higher prices  this has changed and now we are seeing renewed expectations by some that we will see another serious drop in oil prices \n",
      "\n",
      "Stocks\n",
      "\n",
      "With earning season in full swing  I would advise you to always check when earnings are released  You can obviously refer to the list I sent out 2 weeks ago \n",
      "Apple  NASDAQ AAPL    as mentioned yesterday  Apple will be releasing its earnings today  Twitter   will also be releasing its earnings today \n",
      "Yahoo  NASDAQ YHOO    Verizon   as expected it was announced that Verizon is taking its internet business for  4 8 billion  Verizon will combine the newly acquired business with AOL  Verizon will also be releasing its earnings today \n"
     ]
    },
    {
     "name": "stderr",
     "output_type": "stream",
     "text": [
      "Processing:  95%|█████████▌| 19/20 [00:41<00:01,  1.73s/it]"
     ]
    },
    {
     "name": "stdout",
     "output_type": "stream",
     "text": [
      "Kashmir apple trade picks up again under shadow of militant attacks By Fayaz Bukhari SRINAGAR  Reuters    More than 10 000 trucks laden with apples left Indian ruled Kashmir this week in a sign that the territory is returning to normal  according to officials and government data  after India imposed a clampdown on the region in August  Involving some 3 5 million people  apples are the core of Indian Kashmir s economy  which went into a tailspin after phone and internet links were suspended and hundreds of people detained to prevent anti India protests from erupting in the streets  Thousands of trucks were lined up on the main highway connecting Kashmir  a Muslim majority territory claimed in whole by India and Pakistan and ruled in part by both  to the rest of India on Thursday  signaling a recovery in the trade half way through the harvest  Beginning Monday  more than 12 000 trucks left Kashmir  bringing the total amount of apples shipped out of the region this year to nearly 0 7 million metric tonnes  compared to 1 million at this point last year   The exports are already picking up   said Ghulam Mohammad Dar  an official from Kashmir s horticulture department  adding that he expects the industry to ship out more than last year s total figure of 2 2 million metric tonnes  Some mobile connections have been restored and restrictions on movement eased  allowing traders to engage with buyers outside the state  The internet remains suspended in Kashmir for fear it could be used to stir up protests  Kashmir s apple industry initially came to a near complete standstill as traders and fruit pickers were stuck in their homes because of strict movement curbs and the apples were left unpicked in orchards  Traders have been undeterred by a slight spike in attacks by militants on people involved in the apple industry  Since Monday  suspected militants have killed a truck driver transporting apples and two traders  all of them non Kashmiris   TRANSPORT TROUBLE Mohammed Amin  the president of the Fruit Growers  and Dealers  Association of Shopian  said freight costs could rise following the attacks  Some traders are already paying double the normal rate to move their apples and it keeps going up  they said    We are sending apple to outside markets but we are suffering huge losses   said Fayaz Ahmad Malik  who is based in Sopore in northern Kashmir   Apple  NASDAQ AAPL  growers and traders  though  have shunned a federal government plan to directly buy 1 2 million metric tonnes  saying the prices offered were low   Since Sept  16  the government has only bought about 1 600 metric tonnes  shipped out on 70 trucks  according to official data reviewed by Reuters  \n",
      "An official from the National Agricultural Cooperative Marketing Federation of India  which has been tasked with buying the government s share of Kashmiri apples  said the agency was unlikely to buy more than half its initial target \n"
     ]
    },
    {
     "name": "stderr",
     "output_type": "stream",
     "text": [
      "Processing: 100%|██████████| 20/20 [00:42<00:00,  2.13s/it]"
     ]
    },
    {
     "name": "stdout",
     "output_type": "stream",
     "text": [
      "Error processing row (title: Kashmir apple trade picks up again under shadow of militant attacks): No valid choices in API response.\n",
      "Processing complete. Scores added to dataset.\n"
     ]
    },
    {
     "name": "stderr",
     "output_type": "stream",
     "text": [
      "\n"
     ]
    }
   ],
   "source": [
    "def extract_scores(reply):\n",
    "    \"\"\"\n",
    "    Use regex to extract the first float following 'Sentiment:' and 'Importance:'.\n",
    "    \"\"\"\n",
    "    sentiment_pattern = r\"Sentiment:\\s*([-+]?\\d*\\.?\\d+)\"\n",
    "    importance_pattern = r\"Importance:\\s*([-+]?\\d*\\.?\\d+)\"\n",
    "    \n",
    "    sentiment_match = re.search(sentiment_pattern, reply)\n",
    "    importance_match = re.search(importance_pattern, reply)\n",
    "    \n",
    "    if sentiment_match and importance_match:\n",
    "        sentiment_score = float(sentiment_match.group(1))\n",
    "        importance_score = float(importance_match.group(1))\n",
    "        return sentiment_score, importance_score\n",
    "    else:\n",
    "        raise ValueError(\"Could not extract scores from reply: \" + reply)\n",
    "\n",
    "def get_scores(row):\n",
    "    \"\"\"\n",
    "    Function to get sentiment and importance scores for a row of content and title.\n",
    "    \"\"\"\n",
    "    print(row[\"title\"], row[\"content\"])\n",
    "    try:\n",
    "        # Prepare the prompt\n",
    "        prompt = f\"\"\"\n",
    "        Analyze the following article:\n",
    "        Title: {row['title']}\n",
    "        Content: {row['content']}\n",
    "        \n",
    "        Provide two scores:\n",
    "        1. Sentiment score (scale -1 to 1): How positive or negative is the sentiment of the article?\n",
    "        2. Importance score (scale 0 to 1): How important is this article's content for its context?\n",
    "        \n",
    "        Format your response as:\n",
    "        Sentiment: <sentiment_score>\n",
    "        Importance: <importance_score>\n",
    "        \"\"\"\n",
    "        \n",
    "        # Call the OpenRouter API using Qwen\n",
    "        response = client.chat.completions.create(\n",
    "            model=\"qwen/qwen-turbo\",  # Correct model name\n",
    "            messages=[{\"role\": \"user\", \"content\": prompt}],\n",
    "            max_tokens=100,\n",
    "            temperature=0.7\n",
    "        )\n",
    "        \n",
    "        # Instead of checking with hasattr() and len(), use getattr to avoid calling len() on None\n",
    "        choices = getattr(response, \"choices\", None)\n",
    "        if not choices:\n",
    "            raise ValueError(\"No valid choices in API response.\")\n",
    "        \n",
    "        # Get the reply text safely\n",
    "        reply_content = getattr(choices[0].message, \"content\", None)\n",
    "        if not reply_content:\n",
    "            raise ValueError(\"No reply content found in API response.\")\n",
    "        reply_text = reply_content.strip()\n",
    "        \n",
    "        # Use regex to extract the scores\n",
    "        sentiment_score, importance_score = extract_scores(reply_text)\n",
    "        return sentiment_score, importance_score\n",
    "\n",
    "    except Exception as e:\n",
    "        print(f\"Error processing row (title: {row.get('title', 'N/A')}): {e}\")\n",
    "        return None, None\n",
    "\n",
    "def process_dataset(df):\n",
    "    \"\"\"\n",
    "    Processes the dataset sequentially, appending sentiment and importance scores.\n",
    "    \"\"\"\n",
    "    results = []\n",
    "    for _, row in tqdm(df.iterrows(), total=len(df), desc=\"Processing\"):\n",
    "        results.append(get_scores(row))\n",
    "    \n",
    "    # Unpack the results into two new columns\n",
    "    df['sentiment_score'], df['importance_score'] = zip(*results)\n",
    "    return df\n",
    "\n",
    "# Load your dataset (e.g., from a CSV file)\n",
    "# df = pd.read_csv(\"your_dataset.csv\")\n",
    "# Here, we assume 'df' is already defined.\n",
    "\n",
    "# For testing, sample 5 rows from the DataFrame\n",
    "d = df.sample(20)\n",
    "\n",
    "# Process the dataset sequentially\n",
    "d = process_dataset(d)\n",
    "\n",
    "print(\"Processing complete. Scores added to dataset.\")"
   ]
  },
  {
   "cell_type": "markdown",
   "metadata": {},
   "source": [
    "## Version 3: Sequential and sequential add to csv\n"
   ]
  },
  {
   "cell_type": "code",
   "execution_count": 14,
   "metadata": {},
   "outputs": [
    {
     "name": "stdout",
     "output_type": "stream",
     "text": [
      "Row AAPL processed and saved.\n"
     ]
    },
    {
     "ename": "NameError",
     "evalue": "name 'time' is not defined",
     "output_type": "error",
     "traceback": [
      "\u001b[1;31m---------------------------------------------------------------------------\u001b[0m",
      "\u001b[1;31mNameError\u001b[0m                                 Traceback (most recent call last)",
      "Cell \u001b[1;32mIn[14], line 94\u001b[0m\n\u001b[0;32m     92\u001b[0m     \u001b[38;5;28mprint\u001b[39m(\u001b[38;5;124mf\u001b[39m\u001b[38;5;124m\"\u001b[39m\u001b[38;5;124mRow \u001b[39m\u001b[38;5;132;01m{\u001b[39;00midx\u001b[38;5;132;01m}\u001b[39;00m\u001b[38;5;124m processed and saved.\u001b[39m\u001b[38;5;124m\"\u001b[39m)\n\u001b[0;32m     93\u001b[0m     \u001b[38;5;66;03m# Optional: sleep for a short period to avoid rate limiting\u001b[39;00m\n\u001b[1;32m---> 94\u001b[0m     \u001b[43mtime\u001b[49m\u001b[38;5;241m.\u001b[39msleep(\u001b[38;5;241m1\u001b[39m)\n\u001b[0;32m     96\u001b[0m \u001b[38;5;28mprint\u001b[39m(\u001b[38;5;124m\"\u001b[39m\u001b[38;5;124mProcessing complete. Scores added to dataset.\u001b[39m\u001b[38;5;124m\"\u001b[39m)\n",
      "\u001b[1;31mNameError\u001b[0m: name 'time' is not defined"
     ]
    }
   ],
   "source": [
    "def extract_scores(reply):\n",
    "    \"\"\"\n",
    "    Use regex to extract the first float following 'Sentiment:' and 'Importance:'.\n",
    "    \"\"\"\n",
    "    sentiment_pattern = r\"Sentiment:\\s*([-+]?\\d*\\.?\\d+)\"\n",
    "    importance_pattern = r\"Importance:\\s*([-+]?\\d*\\.?\\d+)\"\n",
    "    \n",
    "    sentiment_match = re.search(sentiment_pattern, reply)\n",
    "    importance_match = re.search(importance_pattern, reply)\n",
    "    \n",
    "    if sentiment_match and importance_match:\n",
    "        sentiment_score = float(sentiment_match.group(1))\n",
    "        importance_score = float(importance_match.group(1))\n",
    "        return sentiment_score, importance_score\n",
    "    else:\n",
    "        raise ValueError(\"Could not extract scores from reply: \" + reply)\n",
    "\n",
    "def get_scores(row):\n",
    "    \"\"\"\n",
    "    Function to get sentiment and importance scores for a row of content and title.\n",
    "    \"\"\"    \n",
    "    try:\n",
    "        # Prepare the prompt\n",
    "        prompt = f\"\"\"\n",
    "        Analyze the following article:\n",
    "        Title: {row['title']}\n",
    "        Content: {row['content']}\n",
    "        \n",
    "        Provide two scores:\n",
    "        1. Sentiment score (scale -1 to 1): How positive or negative is the sentiment of the article?\n",
    "        2. Importance score (scale 0 to 1): How important is this article's content for its context?\n",
    "        \n",
    "        Format your response as:\n",
    "        Sentiment: <sentiment_score>\n",
    "        Importance: <importance_score>\n",
    "        \"\"\"\n",
    "    \n",
    "        # Call the OpenRouter API using Qwen\n",
    "        response = client.chat.completions.create(\n",
    "            model=\"qwen/qwen-turbo\",  # Correct model name\n",
    "            messages=[{\"role\": \"user\", \"content\": prompt}],\n",
    "            max_tokens=100,\n",
    "            temperature=0.7\n",
    "        )\n",
    "    \n",
    "        # Check for a valid response\n",
    "        choices = getattr(response, \"choices\", None)\n",
    "        if not choices:\n",
    "            raise ValueError(\"No valid choices in API response.\")\n",
    "    \n",
    "        reply_content = getattr(choices[0].message, \"content\", None)\n",
    "        if not reply_content:\n",
    "            raise ValueError(\"No reply content found in API response.\")\n",
    "    \n",
    "        reply_text = reply_content.strip()\n",
    "        # Use regex to extract the scores\n",
    "        sentiment_score, importance_score = extract_scores(reply_text)\n",
    "        return sentiment_score, importance_score\n",
    "    \n",
    "    except Exception as e:\n",
    "        print(f\"Error processing row (title: {row.get('title', 'N/A')}): {e}\")\n",
    "        return None, None\n",
    "\n",
    "\n",
    "\n",
    "# File paths\n",
    "input_csv = \"news_with_topics_gensim.csv\"            # Your original CSV file\n",
    "output_csv = \"scored_dataset.csv\" # Updated CSV file with scores\n",
    "\n",
    "# Load the CSV file\n",
    "if os.path.exists(output_csv):\n",
    "    df = pd.read_csv(output_csv, index_col=0)  # Load already processed file\n",
    "else:\n",
    "    df = pd.read_csv(input_csv, index_col=0)\n",
    "    # Create new columns for the scores if they don't exist.\n",
    "    df['sentiment_score'] = None\n",
    "    df['importance_score'] = None\n",
    "\n",
    "# Process the DataFrame sequentially row by row\n",
    "for idx, row in df.iterrows():\n",
    "    # Check if the row already has scores (i.e. not NaN)\n",
    "    if pd.notna(row['sentiment_score']) and pd.notna(row['importance_score']):\n",
    "        continue  # Skip already processed rows\n",
    "\n",
    "    # Get scores for the current row\n",
    "    sentiment_score, importance_score = get_scores(row)\n",
    "    df.at[idx, 'sentiment_score'] = sentiment_score\n",
    "    df.at[idx, 'importance_score'] = importance_score\n",
    "\n",
    "    # Save progress after each row (or every few rows)\n",
    "    df.to_csv(output_csv)\n",
    "    print(f\"Row {idx} processed and saved.\")\n",
    "    # Optional: sleep for a short period to avoid rate limiting\n",
    "    time.sleep(1)\n",
    "\n",
    "print(\"Processing complete. Scores added to dataset.\")\n"
   ]
  },
  {
   "cell_type": "code",
   "execution_count": 12,
   "metadata": {},
   "outputs": [
    {
     "data": {
      "text/html": [
       "<div>\n",
       "<style scoped>\n",
       "    .dataframe tbody tr th:only-of-type {\n",
       "        vertical-align: middle;\n",
       "    }\n",
       "\n",
       "    .dataframe tbody tr th {\n",
       "        vertical-align: top;\n",
       "    }\n",
       "\n",
       "    .dataframe thead th {\n",
       "        text-align: right;\n",
       "    }\n",
       "</style>\n",
       "<table border=\"1\" class=\"dataframe\">\n",
       "  <thead>\n",
       "    <tr style=\"text-align: right;\">\n",
       "      <th></th>\n",
       "      <th>ticker</th>\n",
       "      <th>Date</th>\n",
       "      <th>category</th>\n",
       "      <th>title</th>\n",
       "      <th>content</th>\n",
       "      <th>Open</th>\n",
       "      <th>High</th>\n",
       "      <th>Low</th>\n",
       "      <th>Close</th>\n",
       "      <th>Adj Close</th>\n",
       "      <th>Volume</th>\n",
       "      <th>label</th>\n",
       "      <th>cleaned_text</th>\n",
       "      <th>Topic_0</th>\n",
       "      <th>Topic_1</th>\n",
       "      <th>Topic_2</th>\n",
       "      <th>Topic_3</th>\n",
       "      <th>Topic_4</th>\n",
       "      <th>sentiment_score</th>\n",
       "      <th>importance_score</th>\n",
       "    </tr>\n",
       "  </thead>\n",
       "  <tbody>\n",
       "    <tr>\n",
       "      <th>8492</th>\n",
       "      <td>AAPL</td>\n",
       "      <td>2017-10-24</td>\n",
       "      <td>news</td>\n",
       "      <td>Amazon could account for nearly half of US e c...</td>\n",
       "      <td>Amazon  NASDAQ AMZN  will account for nearly h...</td>\n",
       "      <td>39.072498</td>\n",
       "      <td>39.355000</td>\n",
       "      <td>39.049999</td>\n",
       "      <td>39.275002</td>\n",
       "      <td>37.274540</td>\n",
       "      <td>71028800</td>\n",
       "      <td>1</td>\n",
       "      <td>['amazon', 'nasdaq', 'amzn', 'account', 'nearl...</td>\n",
       "      <td>0.002200</td>\n",
       "      <td>0.094458</td>\n",
       "      <td>0.619151</td>\n",
       "      <td>0.282019</td>\n",
       "      <td>0.002172</td>\n",
       "      <td>0.6</td>\n",
       "      <td>0.8</td>\n",
       "    </tr>\n",
       "    <tr>\n",
       "      <th>15664</th>\n",
       "      <td>AAPL</td>\n",
       "      <td>2013-05-15</td>\n",
       "      <td>opinion</td>\n",
       "      <td>Technology Ratio Face Off  Google Vs  Apple  A...</td>\n",
       "      <td>This Daily chart of the GOOG AAPL ratio shows ...</td>\n",
       "      <td>15.684286</td>\n",
       "      <td>15.750000</td>\n",
       "      <td>15.084286</td>\n",
       "      <td>15.316071</td>\n",
       "      <td>13.358216</td>\n",
       "      <td>741613600</td>\n",
       "      <td>0</td>\n",
       "      <td>['daily', 'chart', 'goog', 'aapl', 'ratio', 's...</td>\n",
       "      <td>0.365338</td>\n",
       "      <td>0.624655</td>\n",
       "      <td>0.003332</td>\n",
       "      <td>0.003356</td>\n",
       "      <td>0.003319</td>\n",
       "      <td>0.0</td>\n",
       "      <td>0.7</td>\n",
       "    </tr>\n",
       "    <tr>\n",
       "      <th>5376</th>\n",
       "      <td>AAPL</td>\n",
       "      <td>2018-08-03</td>\n",
       "      <td>news</td>\n",
       "      <td>Huawei sees smartphone shipments topping 200 m...</td>\n",
       "      <td>By Sijia Jiang HONG KONG  Reuters    China s H...</td>\n",
       "      <td>43.869999</td>\n",
       "      <td>44.279999</td>\n",
       "      <td>43.767502</td>\n",
       "      <td>44.235001</td>\n",
       "      <td>42.304600</td>\n",
       "      <td>95096400</td>\n",
       "      <td>1</td>\n",
       "      <td>['sijia', 'jiang', 'hong', 'kong', 'reuters', ...</td>\n",
       "      <td>0.082669</td>\n",
       "      <td>0.000795</td>\n",
       "      <td>0.686639</td>\n",
       "      <td>0.229106</td>\n",
       "      <td>0.000792</td>\n",
       "      <td>0.8</td>\n",
       "      <td>0.9</td>\n",
       "    </tr>\n",
       "    <tr>\n",
       "      <th>15218</th>\n",
       "      <td>AAPL</td>\n",
       "      <td>2016-07-07</td>\n",
       "      <td>opinion</td>\n",
       "      <td>Alibaba Ventures Into Connected Cars  Partners...</td>\n",
       "      <td>Alibaba Group Holding Limited   NYSE BABA   is...</td>\n",
       "      <td>23.924999</td>\n",
       "      <td>24.125000</td>\n",
       "      <td>23.905001</td>\n",
       "      <td>23.985001</td>\n",
       "      <td>22.248240</td>\n",
       "      <td>100558400</td>\n",
       "      <td>1</td>\n",
       "      <td>['alibaba', 'group', 'holding', 'limited', 'ny...</td>\n",
       "      <td>0.001168</td>\n",
       "      <td>0.001174</td>\n",
       "      <td>0.908069</td>\n",
       "      <td>0.042223</td>\n",
       "      <td>0.047366</td>\n",
       "      <td>0.5</td>\n",
       "      <td>0.7</td>\n",
       "    </tr>\n",
       "    <tr>\n",
       "      <th>14784</th>\n",
       "      <td>AAPL</td>\n",
       "      <td>2014-10-03</td>\n",
       "      <td>news</td>\n",
       "      <td>Exclusive  Facebook plots first steps into hea...</td>\n",
       "      <td>By Christina Farr and Alexei Oreskovic SAN FRA...</td>\n",
       "      <td>18.870001</td>\n",
       "      <td>19.047501</td>\n",
       "      <td>18.869286</td>\n",
       "      <td>18.961430</td>\n",
       "      <td>16.844200</td>\n",
       "      <td>178584000</td>\n",
       "      <td>1</td>\n",
       "      <td>['christina', 'farr', 'alexei', 'oreskovic', '...</td>\n",
       "      <td>0.000554</td>\n",
       "      <td>0.030343</td>\n",
       "      <td>0.765529</td>\n",
       "      <td>0.000549</td>\n",
       "      <td>0.203025</td>\n",
       "      <td>0.0</td>\n",
       "      <td>0.8</td>\n",
       "    </tr>\n",
       "  </tbody>\n",
       "</table>\n",
       "</div>"
      ],
      "text/plain": [
       "      ticker        Date category  \\\n",
       "8492    AAPL  2017-10-24     news   \n",
       "15664   AAPL  2013-05-15  opinion   \n",
       "5376    AAPL  2018-08-03     news   \n",
       "15218   AAPL  2016-07-07  opinion   \n",
       "14784   AAPL  2014-10-03     news   \n",
       "\n",
       "                                                   title  \\\n",
       "8492   Amazon could account for nearly half of US e c...   \n",
       "15664  Technology Ratio Face Off  Google Vs  Apple  A...   \n",
       "5376   Huawei sees smartphone shipments topping 200 m...   \n",
       "15218  Alibaba Ventures Into Connected Cars  Partners...   \n",
       "14784  Exclusive  Facebook plots first steps into hea...   \n",
       "\n",
       "                                                 content       Open  \\\n",
       "8492   Amazon  NASDAQ AMZN  will account for nearly h...  39.072498   \n",
       "15664  This Daily chart of the GOOG AAPL ratio shows ...  15.684286   \n",
       "5376   By Sijia Jiang HONG KONG  Reuters    China s H...  43.869999   \n",
       "15218  Alibaba Group Holding Limited   NYSE BABA   is...  23.924999   \n",
       "14784  By Christina Farr and Alexei Oreskovic SAN FRA...  18.870001   \n",
       "\n",
       "            High        Low      Close  Adj Close     Volume  label  \\\n",
       "8492   39.355000  39.049999  39.275002  37.274540   71028800      1   \n",
       "15664  15.750000  15.084286  15.316071  13.358216  741613600      0   \n",
       "5376   44.279999  43.767502  44.235001  42.304600   95096400      1   \n",
       "15218  24.125000  23.905001  23.985001  22.248240  100558400      1   \n",
       "14784  19.047501  18.869286  18.961430  16.844200  178584000      1   \n",
       "\n",
       "                                            cleaned_text   Topic_0   Topic_1  \\\n",
       "8492   ['amazon', 'nasdaq', 'amzn', 'account', 'nearl...  0.002200  0.094458   \n",
       "15664  ['daily', 'chart', 'goog', 'aapl', 'ratio', 's...  0.365338  0.624655   \n",
       "5376   ['sijia', 'jiang', 'hong', 'kong', 'reuters', ...  0.082669  0.000795   \n",
       "15218  ['alibaba', 'group', 'holding', 'limited', 'ny...  0.001168  0.001174   \n",
       "14784  ['christina', 'farr', 'alexei', 'oreskovic', '...  0.000554  0.030343   \n",
       "\n",
       "        Topic_2   Topic_3   Topic_4  sentiment_score  importance_score  \n",
       "8492   0.619151  0.282019  0.002172              0.6               0.8  \n",
       "15664  0.003332  0.003356  0.003319              0.0               0.7  \n",
       "5376   0.686639  0.229106  0.000792              0.8               0.9  \n",
       "15218  0.908069  0.042223  0.047366              0.5               0.7  \n",
       "14784  0.765529  0.000549  0.203025              0.0               0.8  "
      ]
     },
     "execution_count": 12,
     "metadata": {},
     "output_type": "execute_result"
    }
   ],
   "source": [
    "d"
   ]
  },
  {
   "cell_type": "markdown",
   "metadata": {},
   "source": [
    "## Version 2: sequential computing"
   ]
  },
  {
   "cell_type": "code",
   "execution_count": null,
   "metadata": {},
   "outputs": [],
   "source": [
    "\n",
    "def extract_scores(reply):\n",
    "    \"\"\"\n",
    "    Use regex to extract the first float following 'Sentiment:' and 'Importance:'.\n",
    "    \"\"\"\n",
    "    sentiment_pattern = r\"Sentiment:\\s*([-+]?\\d*\\.?\\d+)\"\n",
    "    importance_pattern = r\"Importance:\\s*([-+]?\\d*\\.?\\d+)\"\n",
    "    \n",
    "    sentiment_match = re.search(sentiment_pattern, reply)\n",
    "    importance_match = re.search(importance_pattern, reply)\n",
    "    \n",
    "    if sentiment_match and importance_match:\n",
    "        sentiment_score = float(sentiment_match.group(1))\n",
    "        importance_score = float(importance_match.group(1))\n",
    "        return sentiment_score, importance_score\n",
    "    else:\n",
    "        raise ValueError(\"Could not extract scores from reply: \" + reply)\n",
    "\n",
    "def get_scores(row):\n",
    "    \"\"\"\n",
    "    Function to get sentiment and importance scores for a row of content and title.\n",
    "    \"\"\"\n",
    "    print(row[\"title\",row[\"content\"]])\n",
    "    try:\n",
    "        # Prepare the prompt\n",
    "        prompt = f\"\"\"\n",
    "        Analyze the following article:\n",
    "        Title: {row['title']}\n",
    "        Content: {row['content']}\n",
    "        \n",
    "        Provide two scores:\n",
    "        1. Sentiment score (scale -1 to 1): How positive or negative is the sentiment of the article?\n",
    "        2. Importance score (scale 0 to 1): How important is this article's content for its context?\n",
    "        \n",
    "        Format your response as:\n",
    "        Sentiment: <sentiment_score>\n",
    "        Importance: <importance_score>\n",
    "        \"\"\"\n",
    "        \n",
    "        # Call the OpenRouter API using Qwen\n",
    "        response = client.chat.completions.create(\n",
    "            model=\"qwen/qwen-turbo\",  # Correct model name\n",
    "            messages=[{\"role\": \"user\", \"content\": prompt}],\n",
    "            max_tokens=100,\n",
    "            temperature=0.7\n",
    "        )\n",
    "        \n",
    "        # Check if the response contains valid choices\n",
    "        if not response or not hasattr(response, \"choices\") or len(response.choices) == 0:\n",
    "            raise ValueError(\"No valid choices in API response.\")\n",
    "        \n",
    "        reply = response.choices[0].message.content.strip()\n",
    "        # Extract the scores using regex\n",
    "        sentiment_score, importance_score = extract_scores(reply)\n",
    "        return sentiment_score, importance_score\n",
    "\n",
    "    except Exception as e:\n",
    "        print(f\"Error processing row (title: {row.get('title', 'N/A')}): {e}\")\n",
    "        return None, None\n",
    "\n",
    "def process_dataset(df):\n",
    "    \"\"\"\n",
    "    Processes the dataset sequentially, appending sentiment and importance scores.\n",
    "    \"\"\"\n",
    "    results = []\n",
    "    # Iterate over each row using a simple loop with tqdm for progress visualization\n",
    "    for _, row in tqdm(df.iterrows(), total=len(df), desc=\"Processing\"):\n",
    "        results.append(get_scores(row))\n",
    "    \n",
    "    # Unpack the results into two new columns\n",
    "    df['sentiment_score'], df['importance_score'] = zip(*results)\n",
    "    return df\n",
    "\n",
    "# Load your dataset (for example, from a CSV file)\n",
    "# df = pd.read_csv(\"your_dataset.csv\")\n",
    "# For demonstration, we'll assume 'df' is already defined.\n",
    "\n",
    "# Sample 5 rows for testing\n",
    "d = df.sample(5)\n",
    "\n",
    "# Process the dataset without parallel computing\n",
    "d = process_dataset(d)\n",
    "\n",
    "# Save or print the updated dataset\n",
    "print(\"Processing complete. Scores added to dataset.\")"
   ]
  },
  {
   "cell_type": "code",
   "execution_count": null,
   "metadata": {},
   "outputs": [
    {
     "ename": "NameError",
     "evalue": "name 'df' is not defined",
     "output_type": "error",
     "traceback": [
      "\u001b[1;31m---------------------------------------------------------------------------\u001b[0m",
      "\u001b[1;31mNameError\u001b[0m                                 Traceback (most recent call last)",
      "Cell \u001b[1;32mIn[1], line 78\u001b[0m\n\u001b[0;32m     71\u001b[0m     \u001b[38;5;28;01mreturn\u001b[39;00m df\n\u001b[0;32m     73\u001b[0m \u001b[38;5;66;03m# Load your dataset (for example, from a CSV file)\u001b[39;00m\n\u001b[0;32m     74\u001b[0m \u001b[38;5;66;03m# df = pd.read_csv(\"your_dataset.csv\")\u001b[39;00m\n\u001b[0;32m     75\u001b[0m \u001b[38;5;66;03m# For demonstration, we'll assume 'df' is already defined.\u001b[39;00m\n\u001b[0;32m     76\u001b[0m \n\u001b[0;32m     77\u001b[0m \u001b[38;5;66;03m# Sample 5 rows for testing\u001b[39;00m\n\u001b[1;32m---> 78\u001b[0m d \u001b[38;5;241m=\u001b[39m \u001b[43mdf\u001b[49m\u001b[38;5;241m.\u001b[39msample(\u001b[38;5;241m5\u001b[39m)\n\u001b[0;32m     80\u001b[0m \u001b[38;5;66;03m# Process the dataset without parallel computing\u001b[39;00m\n\u001b[0;32m     81\u001b[0m d \u001b[38;5;241m=\u001b[39m process_dataset(d)\n",
      "\u001b[1;31mNameError\u001b[0m: name 'df' is not defined"
     ]
    }
   ],
   "source": []
  }
 ],
 "metadata": {
  "kernelspec": {
   "display_name": "Python 3",
   "language": "python",
   "name": "python3"
  },
  "language_info": {
   "codemirror_mode": {
    "name": "ipython",
    "version": 3
   },
   "file_extension": ".py",
   "mimetype": "text/x-python",
   "name": "python",
   "nbconvert_exporter": "python",
   "pygments_lexer": "ipython3",
   "version": "3.10.5"
  }
 },
 "nbformat": 4,
 "nbformat_minor": 2
}
